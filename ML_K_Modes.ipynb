{
  "nbformat": 4,
  "nbformat_minor": 0,
  "metadata": {
    "colab": {
      "name": "ML K-Modes.ipynb",
      "version": "0.3.2",
      "provenance": [
        {
          "file_id": "1W3ucfrLZERL0FLW0m3Li0vBpCpGwJq-1",
          "timestamp": 1534362338585
        }
      ],
      "collapsed_sections": []
    }
  },
  "cells": [
    {
      "metadata": {
        "id": "nZ4o681N6hub",
        "colab_type": "text"
      },
      "cell_type": "markdown",
      "source": [
        "# [Template] K-Modes Machine Learning Clustering\n",
        "* Last Update: Aug 1, 2018\n",
        "* Author: taiconley@\n",
        "\n",
        "#### Notes:\n",
        "* This code analyzes DCM Data Transfer files to determine user level content pathing before a conversion. Then we send output at the user level with categories to an external environment to run K-Modes (https://pypi.org/project/kmodes/) \n",
        "* To use:\n",
        "  * Update the project_id to one you have access to\n",
        "  * Update query parameters for the client and campaigns you are analyzing\n",
        "  * pip install kmodes"
      ]
    },
    {
      "metadata": {
        "id": "etUk1u3p6St6",
        "colab_type": "text"
      },
      "cell_type": "markdown",
      "source": [
        "# Import libraries, Initialize BQ, and provide Parameters"
      ]
    },
    {
      "metadata": {
        "id": "DvwziQr0PsBL",
        "colab_type": "code",
        "colab": {}
      },
      "cell_type": "code",
      "source": [
        "from colabtools import bigquery\n",
        "import pandas as pd\n",
        "import numpy as np\n",
        "import seaborn as sns\n",
        "import matplotlib.pyplot as plt"
      ],
      "execution_count": 0,
      "outputs": []
    },
    {
      "metadata": {
        "id": "W40i5yAQcQ8p",
        "colab_type": "code",
        "outputId": "bcd90a2b-8571-405e-c9ae-e78b1af5bdd6",
        "executionInfo": {
          "status": "ok",
          "timestamp": 1532974076649,
          "user_tz": 0,
          "elapsed": 92,
          "user": {
            "displayName": "Tai Conley",
            "photoUrl": "https://lh3.googleusercontent.com/a/default-user=s128",
            "userId": "102302718295477425927"
          }
        },
        "colab": {
          "height": 35
        }
      },
      "cell_type": "code",
      "source": [
        "#Initialize connetion to BQ\n",
        "from colabtools import bigquery\n",
        "bigquery.USE_LEGACY_SQL = False\n",
        "project_id = \"\" #@param\n",
        "bigquery.Create(project_id=project_id)"
      ],
      "execution_count": 0,
      "outputs": [
        {
          "output_type": "execute_result",
          "data": {
            "text/plain": [
              "<google3.cloud.helix.clients.cli.bigquery_client.BigqueryClient at 0x7fedf460b450>"
            ]
          },
          "metadata": {
            "tags": []
          },
          "execution_count": 35
        }
      ]
    },
    {
      "metadata": {
        "id": "6-ZRvHLKPt1W",
        "colab_type": "code",
        "colab": {}
      },
      "cell_type": "code",
      "source": [
        "#Query Parameters\n",
        "dataset_name = \"\" #@param\n",
        "client_id = \"\" #@param\n",
        "impression_table = \"\" #@param\n",
        "activity_table =  #@param\n",
        "\n",
        "campaign_IDs =  \"('')\" #@param\n",
        "dbm_InsertionOrder_IDs = \"()\" #@param\n",
        "activity_IDs = \"('')\" #@param\n",
        "\n",
        "# potentionally other activity ids: 1529128, 2111421, 3139834, 3153417\n",
        "\n",
        "timezone = \"'America/New_York'\" #@param\n",
        "start_date = \"''\" #@param\n",
        "end_date  = \"''\" #@param\n",
        "time_lag_days = \"30\" #@param\n",
        "\n",
        "#sample rate is the inverse of selection. ie, if 5 is picked, sample rate is 1 in 5\n",
        "sample_rate = 10 #@param "
      ],
      "execution_count": 0,
      "outputs": []
    },
    {
      "metadata": {
        "id": "eV2A2gGL0wpw",
        "colab_type": "text"
      },
      "cell_type": "markdown",
      "source": [
        "# Check Redaction"
      ]
    },
    {
      "metadata": {
        "id": "ee8lHALtYX-8",
        "colab_type": "code",
        "outputId": "d3dcfa5f-39ca-4201-d6e4-442afa3e3d73",
        "executionInfo": {
          "status": "ok",
          "timestamp": 1531755113277,
          "user_tz": 0,
          "elapsed": 36714,
          "user": {
            "displayName": "Tai Conley",
            "photoUrl": "https://lh3.googleusercontent.com/a/default-user=s128",
            "userId": "102302718295477425927"
          }
        },
        "colab": {
          "height": 53
        }
      },
      "cell_type": "code",
      "source": [
        "%%substitute_globals\n",
        "%%bigquery Check\n",
        "\n",
        "SELECT\n",
        "Count (*) as Impressions,\n",
        "SUM (Case when User_ID = '0' THEN 1 ELSE 0 END) AS User_ID0,\n",
        "SUM (Active_View_Eligible_Impressions) AS Eligible_Impressions,\n",
        "SUM (Active_View_Measurable_Impressions) AS Measurable_Impressions,\n",
        "SUM (Active_View_Viewable_Impressions) AS Viewable_Impressions\n",
        "FROM {impression_table}\n",
        "WHERE Campaign_ID IN {campaign_IDs}\n",
        "AND DBM_Insertion_Order_ID IN {dbm_InsertionOrder_IDs}\n",
        "AND CAST(DATE(TIMESTAMP_MICROS(CAST(Event_Time as INT64)),\"America/New_York\") AS STRING) BETWEEN {start_date} AND {end_date}"
      ],
      "execution_count": 0,
      "outputs": [
        {
          "output_type": "stream",
          "text": [
            "Waiting on bqjob_red60fcc1783f228_00000164a3b79d16_2 ... (34s) Current status: DONE   "
          ],
          "name": "stderr"
        },
        {
          "output_type": "stream",
          "text": [
            "\n",
            "Saving results into 'Check'\n"
          ],
          "name": "stdout"
        }
      ]
    },
    {
      "metadata": {
        "id": "Ty6FYpWnauc2",
        "colab_type": "code",
        "outputId": "03157a73-08f9-4007-c22e-72af8d82c077",
        "executionInfo": {
          "status": "ok",
          "timestamp": 1531755113451,
          "user_tz": 0,
          "elapsed": 140,
          "user": {
            "displayName": "Tai Conley",
            "photoUrl": "https://lh3.googleusercontent.com/a/default-user=s128",
            "userId": "102302718295477425927"
          }
        },
        "colab": {
          "height": 80
        }
      },
      "cell_type": "code",
      "source": [
        "Check['User_ID0_Percent'] = Check['User_ID0']/Check['Impressions']\n",
        "Check"
      ],
      "execution_count": 0,
      "outputs": [
        {
          "output_type": "execute_result",
          "data": {
            "text/plain": [
              "   Impressions  User_ID0  Eligible_Impressions  Measurable_Impressions  \\\n",
              "0    614842357   6544320                     0                       0   \n",
              "\n",
              "   Viewable_Impressions  User_ID0_Percent  \n",
              "0                     0          0.010644  "
            ],
            "text/html": [
              "<div style=\"max-width:1500px;overflow:auto;\">\n",
              "<style scoped>\n",
              "    .dataframe tbody tr th:only-of-type {\n",
              "        vertical-align: middle;\n",
              "    }\n",
              "\n",
              "    .dataframe tbody tr th {\n",
              "        vertical-align: top;\n",
              "    }\n",
              "\n",
              "    .dataframe thead th {\n",
              "        text-align: right;\n",
              "    }\n",
              "</style>\n",
              "<table border=\"1\" class=\"dataframe\">\n",
              "  <thead>\n",
              "    <tr style=\"text-align: right;\">\n",
              "      <th></th>\n",
              "      <th>Impressions</th>\n",
              "      <th>User_ID0</th>\n",
              "      <th>Eligible_Impressions</th>\n",
              "      <th>Measurable_Impressions</th>\n",
              "      <th>Viewable_Impressions</th>\n",
              "      <th>User_ID0_Percent</th>\n",
              "    </tr>\n",
              "  </thead>\n",
              "  <tbody>\n",
              "    <tr>\n",
              "      <th>0</th>\n",
              "      <td>614842357</td>\n",
              "      <td>6544320</td>\n",
              "      <td>0</td>\n",
              "      <td>0</td>\n",
              "      <td>0</td>\n",
              "      <td>0.010644</td>\n",
              "    </tr>\n",
              "  </tbody>\n",
              "</table>\n",
              "</div>"
            ]
          },
          "metadata": {
            "tags": []
          },
          "execution_count": 6
        }
      ]
    },
    {
      "metadata": {
        "id": "ibYeCRXp5TPT",
        "colab_type": "text"
      },
      "cell_type": "markdown",
      "source": [
        "# Explore URL Categories"
      ]
    },
    {
      "metadata": {
        "id": "0eq_RIt29R3Z",
        "colab_type": "code",
        "outputId": "5b4b70a6-3fed-47f5-f912-d94059001ac9",
        "executionInfo": {
          "status": "ok",
          "timestamp": 1531755165001,
          "user_tz": 0,
          "elapsed": 51359,
          "user": {
            "displayName": "Tai Conley",
            "photoUrl": "https://lh3.googleusercontent.com/a/default-user=s128",
            "userId": "102302718295477425927"
          }
        },
        "colab": {
          "height": 53
        }
      },
      "cell_type": "code",
      "source": [
        "%%substitute_globals\n",
        "%%bigquery urlscat\n",
        "\n",
        "SELECT\n",
        "DBM_URL,\n",
        "DBM_adx_Page_Categories,\n",
        "Count (*) as Impressions\n",
        "FROM {impression_table}\n",
        "WHERE Campaign_ID IN {campaign_IDs}\n",
        "#AND DBM_URL = 'https://www.factinate.com/interesting/40-little-known-facts-michael-jackson-3/22?fact=1'\n",
        "AND DBM_Insertion_Order_ID IN {dbm_InsertionOrder_IDs}\n",
        "AND User_ID != '0'\n",
        "AND CAST(DATE(TIMESTAMP_MICROS(CAST(Event_Time as INT64)),\"America/New_York\") AS STRING) BETWEEN {start_date} AND {end_date}\n",
        "GROUP BY 1,2\n",
        "LIMIT 1000"
      ],
      "execution_count": 0,
      "outputs": [
        {
          "output_type": "stream",
          "text": [
            "Waiting on bqjob_r1165eefdd07b24e3_00000164a3b82cb3_3 ... (48s) Current status: DONE   "
          ],
          "name": "stderr"
        },
        {
          "output_type": "stream",
          "text": [
            "\n",
            "Saving results into 'urlscat'\n"
          ],
          "name": "stdout"
        }
      ]
    },
    {
      "metadata": {
        "id": "YxEQ2NBFmQxi",
        "colab_type": "code",
        "outputId": "d875def6-7332-452f-dfec-ac5a0b706032",
        "executionInfo": {
          "status": "ok",
          "timestamp": 1531755165384,
          "user_tz": 0,
          "elapsed": 305,
          "user": {
            "displayName": "Tai Conley",
            "photoUrl": "https://lh3.googleusercontent.com/a/default-user=s128",
            "userId": "102302718295477425927"
          }
        },
        "colab": {
          "height": 204
        }
      },
      "cell_type": "code",
      "source": [
        "urlscat.head()"
      ],
      "execution_count": 0,
      "outputs": [
        {
          "output_type": "execute_result",
          "data": {
            "text/plain": [
              "                                             DBM_URL  \\\n",
              "0               http://www.ebay.com/itm/183116763632   \n",
              "1  https://www.bestbuy.com/site/otterbox-defender...   \n",
              "2  https://www.bestbuy.com/site/searchpage.jsp?_d...   \n",
              "3  https://m.autotrader.com/cars-for-sale/vehicle...   \n",
              "4  https://m.accuweather.com/en/us/gouverneur-ny/...   \n",
              "\n",
              "                    DBM_adx_Page_Categories  Impressions  \n",
              "0               14 18 56 68 124 171 350 681            1  \n",
              "1                      13 382 390 1071 1171            1  \n",
              "2                       3 5 18 34 73 78 616            1  \n",
              "3  47 815 826 5000 5237 5257 5287 5288 5428            1  \n",
              "4       16 63 5000 5237 5257 5277 5409 5411            1  "
            ],
            "text/html": [
              "<div style=\"max-width:1500px;overflow:auto;\">\n",
              "<style scoped>\n",
              "    .dataframe tbody tr th:only-of-type {\n",
              "        vertical-align: middle;\n",
              "    }\n",
              "\n",
              "    .dataframe tbody tr th {\n",
              "        vertical-align: top;\n",
              "    }\n",
              "\n",
              "    .dataframe thead th {\n",
              "        text-align: right;\n",
              "    }\n",
              "</style>\n",
              "<table border=\"1\" class=\"dataframe\">\n",
              "  <thead>\n",
              "    <tr style=\"text-align: right;\">\n",
              "      <th></th>\n",
              "      <th>DBM_URL</th>\n",
              "      <th>DBM_adx_Page_Categories</th>\n",
              "      <th>Impressions</th>\n",
              "    </tr>\n",
              "  </thead>\n",
              "  <tbody>\n",
              "    <tr>\n",
              "      <th>0</th>\n",
              "      <td>http://www.ebay.com/itm/183116763632</td>\n",
              "      <td>14 18 56 68 124 171 350 681</td>\n",
              "      <td>1</td>\n",
              "    </tr>\n",
              "    <tr>\n",
              "      <th>1</th>\n",
              "      <td>https://www.bestbuy.com/site/otterbox-defender...</td>\n",
              "      <td>13 382 390 1071 1171</td>\n",
              "      <td>1</td>\n",
              "    </tr>\n",
              "    <tr>\n",
              "      <th>2</th>\n",
              "      <td>https://www.bestbuy.com/site/searchpage.jsp?_d...</td>\n",
              "      <td>3 5 18 34 73 78 616</td>\n",
              "      <td>1</td>\n",
              "    </tr>\n",
              "    <tr>\n",
              "      <th>3</th>\n",
              "      <td>https://m.autotrader.com/cars-for-sale/vehicle...</td>\n",
              "      <td>47 815 826 5000 5237 5257 5287 5288 5428</td>\n",
              "      <td>1</td>\n",
              "    </tr>\n",
              "    <tr>\n",
              "      <th>4</th>\n",
              "      <td>https://m.accuweather.com/en/us/gouverneur-ny/...</td>\n",
              "      <td>16 63 5000 5237 5257 5277 5409 5411</td>\n",
              "      <td>1</td>\n",
              "    </tr>\n",
              "  </tbody>\n",
              "</table>\n",
              "</div>"
            ]
          },
          "metadata": {
            "tags": []
          },
          "execution_count": 8
        }
      ]
    },
    {
      "metadata": {
        "id": "_yTaQFwt01TH",
        "colab_type": "text"
      },
      "cell_type": "markdown",
      "source": [
        "# Main Queries to prep model and for data exploration"
      ]
    },
    {
      "metadata": {
        "id": "sSRgwWibbeXQ",
        "colab_type": "text"
      },
      "cell_type": "markdown",
      "source": [
        "## User level output, which gets sent to K-Modes Model"
      ]
    },
    {
      "metadata": {
        "id": "pzg4o20w48KX",
        "colab_type": "code",
        "outputId": "f2d6fa58-8463-4bfd-c772-e318ceac0c33",
        "executionInfo": {
          "status": "ok",
          "timestamp": 1532974171430,
          "user_tz": 0,
          "elapsed": 81548,
          "user": {
            "displayName": "Tai Conley",
            "photoUrl": "https://lh3.googleusercontent.com/a/default-user=s128",
            "userId": "102302718295477425927"
          }
        },
        "colab": {
          "height": 53
        }
      },
      "cell_type": "code",
      "source": [
        "%%substitute_globals\n",
        "%%bigquery df\n",
        "max_rows: 1500000\n",
        "\n",
        "WITH \n",
        "conversions AS (  #Note - this includes unattributed conversions\n",
        "  SELECT\n",
        "    User_ID,\n",
        "    MAX (Event_Time) AS Activity_Time # Capture the last site event for the user \n",
        "  FROM {activity_table}\n",
        "  WHERE User_ID != \"0\"\n",
        "    AND Activity_ID IN {activity_IDs}\n",
        "    AND DATE(TIMESTAMP_MICROS(Event_Time),{timezone}) BETWEEN {start_date} AND {end_date}\n",
        "    #AND User_ID = ''\n",
        "  GROUP BY 1\n",
        "),\n",
        " \n",
        "impressions AS (\n",
        "  SELECT\n",
        "    User_ID,\n",
        "    Event_Time AS Interaction_Time,\n",
        "    DBM_URL,\n",
        "    DBM_Adx_Page_Categories\n",
        "    #DATETIME(TIMESTAMP_MICROS(Event_Time),{timezone}) AS Interaction_Time_Formatted\n",
        "  FROM {impression_table}\n",
        "  WHERE User_ID != \"0\"\n",
        "    AND DBM_URL IS NOT NULL\n",
        "    AND DBM_Adx_Page_Categories IS NOT NULL\n",
        "    AND DATE(TIMESTAMP_MICROS(Event_Time),{timezone}) BETWEEN {start_date} AND {end_date}\n",
        "),\n",
        "\n",
        "full_path AS (\n",
        "  SELECT *,\n",
        "  (Activity_Time - Interaction_Time) as time_lag,\n",
        "  (Activity_Time - Interaction_Time) * (1e6*60*60*24) as time_lag_days\n",
        "  FROM impressions\n",
        "  INNER JOIN conversions USING (User_ID)\n",
        "  WHERE (Activity_Time - Interaction_Time) > 0\n",
        "  AND (Activity_Time - Interaction_Time) < {time_lag_days}*(1e6*60*60*24)\n",
        "),\n",
        "\n",
        "all_categories AS (\n",
        "SELECT \n",
        "User_ID,\n",
        "CONCAT(\",\",REPLACE(REPLACE(STRING_AGG (DISTINCT DBM_ADX_Page_Categories), \",\",\" \"),\" \",\",\")) as category\n",
        "FROM full_path\n",
        "GROUP BY 1\n",
        ")\n",
        "\n",
        "SELECT\n",
        "User_ID,\n",
        "category,\n",
        "CASE WHEN category LIKE '%,3,%' THEN 1 ELSE 0 END AS Acting_Theater,\n",
        "CASE WHEN category LIKE '%,47,%' THEN 1 ELSE 0 END AS Autos_Vehicles,\n",
        "CASE WHEN category LIKE '%,44,%' THEN 1 ELSE 0 END AS Beauty_Fitness,\n",
        "CASE WHEN category LIKE '%,22,%' THEN 1 ELSE 0 END AS Books_Literature,\n",
        "CASE WHEN category LIKE '%,12,%' THEN 1 ELSE 0 END AS Business_Industrial,\n",
        "CASE WHEN category LIKE '%,5,%' THEN 1 ELSE 0 END AS Computers_Electronics,\n",
        "CASE WHEN category LIKE '%,7,%' THEN 1 ELSE 0 END AS Finance,\n",
        "CASE WHEN category LIKE '%,8,%' THEN 1 ELSE 0 END AS Games,\n",
        "CASE WHEN category LIKE '%,45,%' THEN 1 ELSE 0 END AS Health,\n",
        "CASE WHEN category LIKE '%,65,%' THEN 1 ELSE 0 END AS Hobbies_Leisure,\n",
        "CASE WHEN category LIKE '%,11,%' THEN 1 ELSE 0 END AS Home_Garden,\n",
        "CASE WHEN category LIKE '%,13,%' THEN 1 ELSE 0 END AS Internet_Telecom,\n",
        "CASE WHEN category LIKE '%,958,%' THEN 1 ELSE 0 END AS Jobs_Education,\n",
        "CASE WHEN category LIKE '%,19,%' THEN 1 ELSE 0 END AS Law_Government,\n",
        "CASE WHEN category LIKE '%,16,%' THEN 1 ELSE 0 END AS News,\n",
        "CASE WHEN category LIKE '%,299,%' THEN 1 ELSE 0 END AS Online_Communities,\n",
        "CASE WHEN category LIKE '%,14,%' THEN 1 ELSE 0 END AS People_Society,\n",
        "CASE WHEN category LIKE '%,66,%' THEN 1 ELSE 0 END AS Pets_Animals,\n",
        "CASE WHEN category LIKE '%,29,%' THEN 1 ELSE 0 END AS Real_Estate,\n",
        "CASE WHEN category LIKE '%,533,%' THEN 1 ELSE 0 END AS Reference,\n",
        "CASE WHEN category LIKE '%,174,%' THEN 1 ELSE 0 END AS Science,\n",
        "CASE WHEN category LIKE '%,18,%' THEN 1 ELSE 0 END AS Shopping,\n",
        "CASE WHEN category LIKE '%,20,%' THEN 1 ELSE 0 END AS Sports,\n",
        "CASE WHEN category LIKE '%,67,%' THEN 1 ELSE 0 END AS Travel,\n",
        "CASE WHEN category LIKE '%,5000,%' THEN 1 ELSE 0 END AS World_Localities\n",
        "FROM\n",
        "all_categories\n",
        "#WHERE MOD(ABS(Farm_Fingerprint (User_ID)),{sample_rate})=0 #uncomment if you need to sample your data"
      ],
      "execution_count": 0,
      "outputs": [
        {
          "output_type": "stream",
          "text": [
            "Waiting on bqjob_r8e388731cb255e5_00000164ec6046ab_4 ... (48s) Current status: DONE   "
          ],
          "name": "stderr"
        },
        {
          "output_type": "stream",
          "text": [
            "\n",
            "Saving results into 'df'\n"
          ],
          "name": "stdout"
        }
      ]
    },
    {
      "metadata": {
        "id": "t_I5DFq1bp1O",
        "colab_type": "text"
      },
      "cell_type": "markdown",
      "source": [
        "## Paths output for all converters only (Used to calculate lift)"
      ]
    },
    {
      "metadata": {
        "id": "oNpZygRvDsy_",
        "colab_type": "code",
        "outputId": "74519652-7b3d-4577-a117-8f740b873e95",
        "executionInfo": {
          "status": "ok",
          "timestamp": 1532458413993,
          "user_tz": 0,
          "elapsed": 37063,
          "user": {
            "displayName": "Tai Conley",
            "photoUrl": "https://lh3.googleusercontent.com/a/default-user=s128",
            "userId": "102302718295477425927"
          }
        },
        "colab": {
          "height": 71
        }
      },
      "cell_type": "code",
      "source": [
        "%%substitute_globals\n",
        "%%bigquery df_allPaths_Converters\n",
        "max_rows: 15000\n",
        "\n",
        "# query provides an output with the count of cookies aggregated to the path level for converters only\n",
        "WITH \n",
        "conversions AS (  #Note - this includes unattributed conversions\n",
        "  SELECT\n",
        "    User_ID,\n",
        "    MAX (Event_Time) AS Activity_Time # Capture the last site event for the user \n",
        "  FROM {activity_table}\n",
        "  WHERE User_ID != \"0\"\n",
        "    AND Activity_ID IN {activity_IDs}\n",
        "    AND DATE(TIMESTAMP_MICROS(Event_Time),{timezone}) BETWEEN {start_date} AND {end_date}\n",
        "    \n",
        "  GROUP BY 1\n",
        "),\n",
        " \n",
        "impressions AS (\n",
        "  SELECT\n",
        "    User_ID,\n",
        "    Event_Time AS Interaction_Time,\n",
        "    DBM_URL,\n",
        "    DBM_Adx_Page_Categories\n",
        "    #DATETIME(TIMESTAMP_MICROS(Event_Time),{timezone}) AS Interaction_Time_Formatted\n",
        "  FROM {impression_table}\n",
        "  WHERE User_ID != \"0\"\n",
        "    AND DBM_URL IS NOT NULL\n",
        "    AND DBM_Adx_Page_Categories IS NOT NULL\n",
        "    AND DATE(TIMESTAMP_MICROS(Event_Time),{timezone}) BETWEEN {start_date} AND {end_date}\n",
        "),\n",
        "\n",
        "full_path AS (\n",
        "  SELECT *,\n",
        "  (Activity_Time - Interaction_Time) as time_lag,\n",
        "  (Activity_Time - Interaction_Time) * (1e6*60*60*24) as time_lag_days\n",
        "  FROM impressions\n",
        "  INNER JOIN conversions USING (User_ID)\n",
        "  WHERE (Activity_Time - Interaction_Time) > 0\n",
        "  AND (Activity_Time - Interaction_Time) < {time_lag_days}*(1e6*60*60*24)\n",
        "),\n",
        "\n",
        "all_categories AS (\n",
        "SELECT \n",
        "User_ID,\n",
        "CONCAT(\",\",REPLACE(REPLACE(STRING_AGG (DISTINCT DBM_ADX_Page_Categories), \",\",\" \"),\" \",\",\")) as category\n",
        "FROM full_path\n",
        "GROUP BY 1\n",
        "),\n",
        "\n",
        "all_categories_sampled AS (\n",
        "\n",
        "SELECT\n",
        "User_ID,\n",
        "category,\n",
        "CASE WHEN category LIKE '%,3,%' THEN 1 ELSE 0 END AS Acting_Theater,\n",
        "CASE WHEN category LIKE '%,47,%' THEN 1 ELSE 0 END AS Autos_Vehicles,\n",
        "CASE WHEN category LIKE '%,44,%' THEN 1 ELSE 0 END AS Beauty_Fitness,\n",
        "CASE WHEN category LIKE '%,22,%' THEN 1 ELSE 0 END AS Books_Literature,\n",
        "CASE WHEN category LIKE '%,12,%' THEN 1 ELSE 0 END AS Business_Industrial,\n",
        "CASE WHEN category LIKE '%,5,%' THEN 1 ELSE 0 END AS Computers_Electronics,\n",
        "CASE WHEN category LIKE '%,7,%' THEN 1 ELSE 0 END AS Finance,\n",
        "CASE WHEN category LIKE '%,8,%' THEN 1 ELSE 0 END AS Games,\n",
        "CASE WHEN category LIKE '%,45,%' THEN 1 ELSE 0 END AS Health,\n",
        "CASE WHEN category LIKE '%,65,%' THEN 1 ELSE 0 END AS Hobbies_Leisure,\n",
        "CASE WHEN category LIKE '%,11,%' THEN 1 ELSE 0 END AS Home_Garden,\n",
        "CASE WHEN category LIKE '%,13,%' THEN 1 ELSE 0 END AS Internet_Telecom,\n",
        "CASE WHEN category LIKE '%,958,%' THEN 1 ELSE 0 END AS Jobs_Education,\n",
        "CASE WHEN category LIKE '%,19,%' THEN 1 ELSE 0 END AS Law_Government,\n",
        "CASE WHEN category LIKE '%,16,%' THEN 1 ELSE 0 END AS News,\n",
        "CASE WHEN category LIKE '%,299,%' THEN 1 ELSE 0 END AS Online_Communities,\n",
        "CASE WHEN category LIKE '%,14,%' THEN 1 ELSE 0 END AS People_Society,\n",
        "CASE WHEN category LIKE '%,66,%' THEN 1 ELSE 0 END AS Pets_Animals,\n",
        "CASE WHEN category LIKE '%,29,%' THEN 1 ELSE 0 END AS Real_Estate,\n",
        "CASE WHEN category LIKE '%,533,%' THEN 1 ELSE 0 END AS Reference,\n",
        "CASE WHEN category LIKE '%,174,%' THEN 1 ELSE 0 END AS Science,\n",
        "CASE WHEN category LIKE '%,18,%' THEN 1 ELSE 0 END AS Shopping,\n",
        "CASE WHEN category LIKE '%,20,%' THEN 1 ELSE 0 END AS Sports,\n",
        "CASE WHEN category LIKE '%,67,%' THEN 1 ELSE 0 END AS Travel,\n",
        "CASE WHEN category LIKE '%,5000,%' THEN 1 ELSE 0 END AS World_Localities\n",
        "FROM\n",
        "all_categories\n",
        "#WHERE MOD(ABS(Farm_Fingerprint (User_ID)),{sample_rate})=0 #uncomment to sample data\n",
        "),\n",
        "\n",
        "categories_string AS (\n",
        "SELECT\n",
        "User_ID,\n",
        "category,\n",
        "concat(\n",
        "CAST (Acting_Theater AS string), \",\" ,\n",
        "CAST (Autos_Vehicles AS string), \",\" ,\n",
        "CAST (Beauty_Fitness AS string), \",\" ,\n",
        "CAST (Books_Literature AS string), \",\" ,\n",
        "CAST (Business_Industrial AS string), \",\" ,\n",
        "CAST (Computers_Electronics AS string), \",\" ,\n",
        "CAST (Finance AS string), \",\" ,\n",
        "CAST (Games AS string), \",\" ,\n",
        "CAST (Health AS string), \",\" ,\n",
        "CAST (Hobbies_Leisure AS string), \",\" ,\n",
        "CAST (Home_Garden AS string), \",\" ,\n",
        "CAST (Internet_Telecom AS string), \",\" ,\n",
        "CAST (Jobs_Education AS string), \",\" ,\n",
        "CAST (Law_Government AS string), \",\" ,\n",
        "CAST (News AS string), \",\" ,\n",
        "CAST (Online_Communities AS string), \",\" ,\n",
        "CAST (People_Society AS string), \",\" ,\n",
        "CAST (Pets_Animals AS string), \",\" ,\n",
        "CAST (Real_Estate AS string), \",\" ,\n",
        "CAST (Reference AS string), \",\" ,\n",
        "CAST (Science AS string), \",\" ,\n",
        "CAST (Shopping AS string), \",\" ,\n",
        "CAST (Sports AS string), \",\" ,\n",
        "CAST (Travel AS string), \",\" ,\n",
        "CAST (World_Localities AS string)) AS category_string\n",
        "FROM all_categories_sampled\n",
        ")\n",
        "\n",
        "SELECT\n",
        "category_string,\n",
        "COUNT (User_ID) AS uniques\n",
        "FROM\n",
        "categories_string\n",
        "GROUP BY 1\n",
        "ORDER BY 2 DESC\n"
      ],
      "execution_count": 0,
      "outputs": [
        {
          "output_type": "stream",
          "text": [
            "Waiting on bqjob_r246e255e89a3038e_00000164cda31fd4_2 ... (34s) Current status: DONE   "
          ],
          "name": "stderr"
        },
        {
          "output_type": "stream",
          "text": [
            "\n",
            "Saving results into 'df_allPaths_Converters'\n"
          ],
          "name": "stdout"
        },
        {
          "output_type": "stream",
          "text": [
            "Truncated results at max_rows: 15000. See http://go/colab-bigquery-maxrows to increase.\n"
          ],
          "name": "stderr"
        }
      ]
    },
    {
      "metadata": {
        "id": "rhtO6HU7E_uY",
        "colab_type": "code",
        "outputId": "ebde04e9-5bf7-40de-8461-93beea9ed2e2",
        "executionInfo": {
          "status": "ok",
          "timestamp": 1532458867701,
          "user_tz": 0,
          "elapsed": 334,
          "user": {
            "displayName": "Tai Conley",
            "photoUrl": "https://lh3.googleusercontent.com/a/default-user=s128",
            "userId": "102302718295477425927"
          }
        },
        "colab": {
          "height": 204
        }
      },
      "cell_type": "code",
      "source": [
        "df_allPaths_Converters.head()"
      ],
      "execution_count": 0,
      "outputs": [
        {
          "output_type": "execute_result",
          "data": {
            "text/html": [
              "<div style=\"max-width:1500px;overflow:auto;\">\n",
              "<style scoped>\n",
              "    .dataframe tbody tr th:only-of-type {\n",
              "        vertical-align: middle;\n",
              "    }\n",
              "\n",
              "    .dataframe tbody tr th {\n",
              "        vertical-align: top;\n",
              "    }\n",
              "\n",
              "    .dataframe thead th {\n",
              "        text-align: right;\n",
              "    }\n",
              "</style>\n",
              "<table border=\"1\" class=\"dataframe\">\n",
              "  <thead>\n",
              "    <tr style=\"text-align: right;\">\n",
              "      <th></th>\n",
              "      <th>category_string</th>\n",
              "      <th>uniques</th>\n",
              "    </tr>\n",
              "  </thead>\n",
              "  <tbody>\n",
              "    <tr>\n",
              "      <th>0</th>\n",
              "      <td>0,1,0,0,0,0,0,0,0,0,0,0,0,0,0,0,0,0,0,0,0,0,0,0,0</td>\n",
              "      <td>6866</td>\n",
              "    </tr>\n",
              "    <tr>\n",
              "      <th>1</th>\n",
              "      <td>0,0,0,0,0,0,0,0,0,0,0,0,0,0,0,0,0,0,0,0,0,1,0,0,0</td>\n",
              "      <td>3729</td>\n",
              "    </tr>\n",
              "    <tr>\n",
              "      <th>2</th>\n",
              "      <td>0,1,0,0,0,0,0,0,0,0,0,0,0,0,0,0,0,0,0,0,0,0,0,0,1</td>\n",
              "      <td>2653</td>\n",
              "    </tr>\n",
              "    <tr>\n",
              "      <th>3</th>\n",
              "      <td>1,0,0,0,0,0,0,0,0,0,0,0,0,0,0,0,0,0,0,0,0,0,0,0,0</td>\n",
              "      <td>2555</td>\n",
              "    </tr>\n",
              "    <tr>\n",
              "      <th>4</th>\n",
              "      <td>0,0,0,0,0,0,0,0,0,0,0,0,0,0,0,0,0,0,0,0,0,0,0,0,0</td>\n",
              "      <td>2496</td>\n",
              "    </tr>\n",
              "  </tbody>\n",
              "</table>\n",
              "</div>"
            ],
            "text/plain": [
              "                                     category_string  uniques\n",
              "0  0,1,0,0,0,0,0,0,0,0,0,0,0,0,0,0,0,0,0,0,0,0,0,0,0     6866\n",
              "1  0,0,0,0,0,0,0,0,0,0,0,0,0,0,0,0,0,0,0,0,0,1,0,0,0     3729\n",
              "2  0,1,0,0,0,0,0,0,0,0,0,0,0,0,0,0,0,0,0,0,0,0,0,0,1     2653\n",
              "3  1,0,0,0,0,0,0,0,0,0,0,0,0,0,0,0,0,0,0,0,0,0,0,0,0     2555\n",
              "4  0,0,0,0,0,0,0,0,0,0,0,0,0,0,0,0,0,0,0,0,0,0,0,0,0     2496"
            ]
          },
          "metadata": {
            "tags": []
          },
          "execution_count": 7
        }
      ]
    },
    {
      "metadata": {
        "id": "wNC08XeUbwEd",
        "colab_type": "text"
      },
      "cell_type": "markdown",
      "source": [
        "## Paths output for all converters only (Used to calculate lift)"
      ]
    },
    {
      "metadata": {
        "id": "7vOHQ20s74a5",
        "colab_type": "code",
        "outputId": "2f372dc3-2614-4665-8c4b-e82d8e5fc15a",
        "executionInfo": {
          "status": "ok",
          "timestamp": 1532458503498,
          "user_tz": 0,
          "elapsed": 89477,
          "user": {
            "displayName": "Tai Conley",
            "photoUrl": "https://lh3.googleusercontent.com/a/default-user=s128",
            "userId": "102302718295477425927"
          }
        },
        "colab": {
          "height": 71
        }
      },
      "cell_type": "code",
      "source": [
        "%%substitute_globals\n",
        "%%bigquery df_allPaths\n",
        "max_rows: 15000\n",
        "\n",
        "# query provides an output with the count of cookies aggregated to the path level\n",
        "WITH \n",
        " \n",
        "impressions AS (\n",
        "  SELECT\n",
        "    User_ID,\n",
        "    Event_Time AS Interaction_Time,\n",
        "    DBM_URL,\n",
        "    DBM_Adx_Page_Categories\n",
        "  FROM {impression_table}\n",
        "  WHERE User_ID != \"0\"\n",
        "    AND DBM_URL IS NOT NULL\n",
        "    AND DBM_Adx_Page_Categories IS NOT NULL\n",
        "    AND DATE(TIMESTAMP_MICROS(Event_Time),{timezone}) BETWEEN {start_date} AND {end_date}\n",
        "),\n",
        "\n",
        "all_categories AS (\n",
        "SELECT \n",
        "User_ID,\n",
        "CONCAT(\",\",REPLACE(REPLACE(STRING_AGG (DISTINCT DBM_ADX_Page_Categories), \",\",\" \"),\" \",\",\")) as category\n",
        "FROM impressions\n",
        "GROUP BY 1\n",
        "),\n",
        "\n",
        "all_categories_sampled AS (\n",
        "SELECT\n",
        "User_ID,\n",
        "category,\n",
        "CASE WHEN category LIKE '%,3,%' THEN 1 ELSE 0 END AS Acting_Theater,\n",
        "CASE WHEN category LIKE '%,47,%' THEN 1 ELSE 0 END AS Autos_Vehicles,\n",
        "CASE WHEN category LIKE '%,44,%' THEN 1 ELSE 0 END AS Beauty_Fitness,\n",
        "CASE WHEN category LIKE '%,22,%' THEN 1 ELSE 0 END AS Books_Literature,\n",
        "CASE WHEN category LIKE '%,12,%' THEN 1 ELSE 0 END AS Business_Industrial,\n",
        "CASE WHEN category LIKE '%,5,%' THEN 1 ELSE 0 END AS Computers_Electronics,\n",
        "CASE WHEN category LIKE '%,7,%' THEN 1 ELSE 0 END AS Finance,\n",
        "CASE WHEN category LIKE '%,8,%' THEN 1 ELSE 0 END AS Games,\n",
        "CASE WHEN category LIKE '%,45,%' THEN 1 ELSE 0 END AS Health,\n",
        "CASE WHEN category LIKE '%,65,%' THEN 1 ELSE 0 END AS Hobbies_Leisure,\n",
        "CASE WHEN category LIKE '%,11,%' THEN 1 ELSE 0 END AS Home_Garden,\n",
        "CASE WHEN category LIKE '%,13,%' THEN 1 ELSE 0 END AS Internet_Telecom,\n",
        "CASE WHEN category LIKE '%,958,%' THEN 1 ELSE 0 END AS Jobs_Education,\n",
        "CASE WHEN category LIKE '%,19,%' THEN 1 ELSE 0 END AS Law_Government,\n",
        "CASE WHEN category LIKE '%,16,%' THEN 1 ELSE 0 END AS News,\n",
        "CASE WHEN category LIKE '%,299,%' THEN 1 ELSE 0 END AS Online_Communities,\n",
        "CASE WHEN category LIKE '%,14,%' THEN 1 ELSE 0 END AS People_Society,\n",
        "CASE WHEN category LIKE '%,66,%' THEN 1 ELSE 0 END AS Pets_Animals,\n",
        "CASE WHEN category LIKE '%,29,%' THEN 1 ELSE 0 END AS Real_Estate,\n",
        "CASE WHEN category LIKE '%,533,%' THEN 1 ELSE 0 END AS Reference,\n",
        "CASE WHEN category LIKE '%,174,%' THEN 1 ELSE 0 END AS Science,\n",
        "CASE WHEN category LIKE '%,18,%' THEN 1 ELSE 0 END AS Shopping,\n",
        "CASE WHEN category LIKE '%,20,%' THEN 1 ELSE 0 END AS Sports,\n",
        "CASE WHEN category LIKE '%,67,%' THEN 1 ELSE 0 END AS Travel,\n",
        "CASE WHEN category LIKE '%,5000,%' THEN 1 ELSE 0 END AS World_Localities\n",
        "FROM\n",
        "all_categories\n",
        "#WHERE MOD(ABS(Farm_Fingerprint (User_ID)),{sample_rate})=0 #uncomment to sample data\n",
        "),\n",
        "\n",
        "categories_string AS (\n",
        "SELECT\n",
        "User_ID,\n",
        "category,\n",
        "concat(\n",
        "CAST (Acting_Theater AS string), \",\" ,\n",
        "CAST (Autos_Vehicles AS string), \",\" ,\n",
        "CAST (Beauty_Fitness AS string), \",\" ,\n",
        "CAST (Books_Literature AS string), \",\" ,\n",
        "CAST (Business_Industrial AS string), \",\" ,\n",
        "CAST (Computers_Electronics AS string), \",\" ,\n",
        "CAST (Finance AS string), \",\" ,\n",
        "CAST (Games AS string), \",\" ,\n",
        "CAST (Health AS string), \",\" ,\n",
        "CAST (Hobbies_Leisure AS string), \",\" ,\n",
        "CAST (Home_Garden AS string), \",\" ,\n",
        "CAST (Internet_Telecom AS string), \",\" ,\n",
        "CAST (Jobs_Education AS string), \",\" ,\n",
        "CAST (Law_Government AS string), \",\" ,\n",
        "CAST (News AS string), \",\" ,\n",
        "CAST (Online_Communities AS string), \",\" ,\n",
        "CAST (People_Society AS string), \",\" ,\n",
        "CAST (Pets_Animals AS string), \",\" ,\n",
        "CAST (Real_Estate AS string), \",\" ,\n",
        "CAST (Reference AS string), \",\" ,\n",
        "CAST (Science AS string), \",\" ,\n",
        "CAST (Shopping AS string), \",\" ,\n",
        "CAST (Sports AS string), \",\" ,\n",
        "CAST (Travel AS string), \",\" ,\n",
        "CAST (World_Localities AS string)) AS category_string\n",
        "FROM all_categories_sampled\n",
        ")\n",
        "\n",
        "SELECT\n",
        "category_string,\n",
        "COUNT (User_ID) AS uniques\n",
        "FROM\n",
        "categories_string\n",
        "GROUP BY 1\n",
        "ORDER BY 2 DESC"
      ],
      "execution_count": 0,
      "outputs": [
        {
          "output_type": "stream",
          "text": [
            "Waiting on bqjob_r428ea6cad304462b_00000164cda3afce_3 ... (86s) Current status: DONE   "
          ],
          "name": "stderr"
        },
        {
          "output_type": "stream",
          "text": [
            "\n",
            "Saving results into 'df_allPaths'\n"
          ],
          "name": "stdout"
        },
        {
          "output_type": "stream",
          "text": [
            "Truncated results at max_rows: 15000. See http://go/colab-bigquery-maxrows to increase.\n"
          ],
          "name": "stderr"
        }
      ]
    },
    {
      "metadata": {
        "id": "F31Nr8GU8z6p",
        "colab_type": "code",
        "outputId": "6959be88-4218-4835-f37a-2f3126ee5c4b",
        "executionInfo": {
          "status": "ok",
          "timestamp": 1532458879224,
          "user_tz": 0,
          "elapsed": 127,
          "user": {
            "displayName": "Tai Conley",
            "photoUrl": "https://lh3.googleusercontent.com/a/default-user=s128",
            "userId": "102302718295477425927"
          }
        },
        "colab": {
          "height": 204
        }
      },
      "cell_type": "code",
      "source": [
        "df_allPaths.head()"
      ],
      "execution_count": 0,
      "outputs": [
        {
          "output_type": "execute_result",
          "data": {
            "text/html": [
              "<div style=\"max-width:1500px;overflow:auto;\">\n",
              "<style scoped>\n",
              "    .dataframe tbody tr th:only-of-type {\n",
              "        vertical-align: middle;\n",
              "    }\n",
              "\n",
              "    .dataframe tbody tr th {\n",
              "        vertical-align: top;\n",
              "    }\n",
              "\n",
              "    .dataframe thead th {\n",
              "        text-align: right;\n",
              "    }\n",
              "</style>\n",
              "<table border=\"1\" class=\"dataframe\">\n",
              "  <thead>\n",
              "    <tr style=\"text-align: right;\">\n",
              "      <th></th>\n",
              "      <th>category_string</th>\n",
              "      <th>uniques</th>\n",
              "    </tr>\n",
              "  </thead>\n",
              "  <tbody>\n",
              "    <tr>\n",
              "      <th>0</th>\n",
              "      <td>1,0,0,0,0,0,0,0,0,0,0,0,0,0,0,0,0,0,0,0,0,0,0,0,0</td>\n",
              "      <td>27889796</td>\n",
              "    </tr>\n",
              "    <tr>\n",
              "      <th>1</th>\n",
              "      <td>0,0,0,0,0,0,0,0,0,0,0,0,0,0,0,0,0,0,0,0,0,0,0,0,0</td>\n",
              "      <td>21234130</td>\n",
              "    </tr>\n",
              "    <tr>\n",
              "      <th>2</th>\n",
              "      <td>0,0,0,0,0,0,0,0,0,0,0,1,0,0,0,0,0,0,0,0,0,0,0,0,0</td>\n",
              "      <td>16589590</td>\n",
              "    </tr>\n",
              "    <tr>\n",
              "      <th>3</th>\n",
              "      <td>0,0,0,0,0,0,0,0,0,0,0,0,0,0,1,0,0,0,0,0,0,0,1,0,0</td>\n",
              "      <td>15579078</td>\n",
              "    </tr>\n",
              "    <tr>\n",
              "      <th>4</th>\n",
              "      <td>1,0,0,0,0,0,0,0,0,0,0,0,0,0,1,0,0,0,0,0,0,0,0,0,0</td>\n",
              "      <td>14243281</td>\n",
              "    </tr>\n",
              "  </tbody>\n",
              "</table>\n",
              "</div>"
            ],
            "text/plain": [
              "                                     category_string   uniques\n",
              "0  1,0,0,0,0,0,0,0,0,0,0,0,0,0,0,0,0,0,0,0,0,0,0,0,0  27889796\n",
              "1  0,0,0,0,0,0,0,0,0,0,0,0,0,0,0,0,0,0,0,0,0,0,0,0,0  21234130\n",
              "2  0,0,0,0,0,0,0,0,0,0,0,1,0,0,0,0,0,0,0,0,0,0,0,0,0  16589590\n",
              "3  0,0,0,0,0,0,0,0,0,0,0,0,0,0,1,0,0,0,0,0,0,0,1,0,0  15579078\n",
              "4  1,0,0,0,0,0,0,0,0,0,0,0,0,0,1,0,0,0,0,0,0,0,0,0,0  14243281"
            ]
          },
          "metadata": {
            "tags": []
          },
          "execution_count": 8
        }
      ]
    },
    {
      "metadata": {
        "id": "E9C3d015qXSB",
        "colab_type": "code",
        "outputId": "4406e99a-e30f-4e2d-bed5-aa84691c381f",
        "executionInfo": {
          "status": "ok",
          "timestamp": 1532458884590,
          "user_tz": 0,
          "elapsed": 106,
          "user": {
            "displayName": "Tai Conley",
            "photoUrl": "https://lh3.googleusercontent.com/a/default-user=s128",
            "userId": "102302718295477425927"
          }
        },
        "colab": {
          "height": 248
        }
      },
      "cell_type": "code",
      "source": [
        "df.drop(['category'], axis=1).head()"
      ],
      "execution_count": 0,
      "outputs": [
        {
          "output_type": "execute_result",
          "data": {
            "text/html": [
              "<div style=\"max-width:1500px;overflow:auto;\">\n",
              "<style scoped>\n",
              "    .dataframe tbody tr th:only-of-type {\n",
              "        vertical-align: middle;\n",
              "    }\n",
              "\n",
              "    .dataframe tbody tr th {\n",
              "        vertical-align: top;\n",
              "    }\n",
              "\n",
              "    .dataframe thead th {\n",
              "        text-align: right;\n",
              "    }\n",
              "</style>\n",
              "<table border=\"1\" class=\"dataframe\">\n",
              "  <thead>\n",
              "    <tr style=\"text-align: right;\">\n",
              "      <th></th>\n",
              "      <th>User_ID</th>\n",
              "      <th>Acting_Theater</th>\n",
              "      <th>Autos_Vehicles</th>\n",
              "      <th>Beauty_Fitness</th>\n",
              "      <th>Books_Literature</th>\n",
              "      <th>Business_Industrial</th>\n",
              "      <th>Computers_Electronics</th>\n",
              "      <th>Finance</th>\n",
              "      <th>Games</th>\n",
              "      <th>Health</th>\n",
              "      <th>...</th>\n",
              "      <th>Online_Communities</th>\n",
              "      <th>People_Society</th>\n",
              "      <th>Pets_Animals</th>\n",
              "      <th>Real_Estate</th>\n",
              "      <th>Reference</th>\n",
              "      <th>Science</th>\n",
              "      <th>Shopping</th>\n",
              "      <th>Sports</th>\n",
              "      <th>Travel</th>\n",
              "      <th>World_Localities</th>\n",
              "    </tr>\n",
              "  </thead>\n",
              "  <tbody>\n",
              "    <tr>\n",
              "      <th>0</th>\n",
              "      <td>CAESECWvI7DZYOWD8S69Nm7o4sU</td>\n",
              "      <td>0</td>\n",
              "      <td>0</td>\n",
              "      <td>0</td>\n",
              "      <td>0</td>\n",
              "      <td>1</td>\n",
              "      <td>0</td>\n",
              "      <td>1</td>\n",
              "      <td>0</td>\n",
              "      <td>1</td>\n",
              "      <td>...</td>\n",
              "      <td>0</td>\n",
              "      <td>0</td>\n",
              "      <td>0</td>\n",
              "      <td>0</td>\n",
              "      <td>1</td>\n",
              "      <td>1</td>\n",
              "      <td>1</td>\n",
              "      <td>0</td>\n",
              "      <td>0</td>\n",
              "      <td>0</td>\n",
              "    </tr>\n",
              "    <tr>\n",
              "      <th>1</th>\n",
              "      <td>CAESEEMUusIAjlacxDvd9wbhpvM</td>\n",
              "      <td>1</td>\n",
              "      <td>0</td>\n",
              "      <td>0</td>\n",
              "      <td>1</td>\n",
              "      <td>0</td>\n",
              "      <td>0</td>\n",
              "      <td>0</td>\n",
              "      <td>0</td>\n",
              "      <td>0</td>\n",
              "      <td>...</td>\n",
              "      <td>1</td>\n",
              "      <td>1</td>\n",
              "      <td>0</td>\n",
              "      <td>0</td>\n",
              "      <td>0</td>\n",
              "      <td>0</td>\n",
              "      <td>1</td>\n",
              "      <td>0</td>\n",
              "      <td>0</td>\n",
              "      <td>0</td>\n",
              "    </tr>\n",
              "    <tr>\n",
              "      <th>2</th>\n",
              "      <td>CAESEOMo4mm7x30CdSHJSK0dddw</td>\n",
              "      <td>1</td>\n",
              "      <td>0</td>\n",
              "      <td>1</td>\n",
              "      <td>0</td>\n",
              "      <td>1</td>\n",
              "      <td>0</td>\n",
              "      <td>0</td>\n",
              "      <td>0</td>\n",
              "      <td>1</td>\n",
              "      <td>...</td>\n",
              "      <td>1</td>\n",
              "      <td>1</td>\n",
              "      <td>0</td>\n",
              "      <td>0</td>\n",
              "      <td>1</td>\n",
              "      <td>1</td>\n",
              "      <td>0</td>\n",
              "      <td>0</td>\n",
              "      <td>0</td>\n",
              "      <td>0</td>\n",
              "    </tr>\n",
              "    <tr>\n",
              "      <th>3</th>\n",
              "      <td>CAESEAhtY4Xsxia4ez4oDkZ6lIc</td>\n",
              "      <td>1</td>\n",
              "      <td>0</td>\n",
              "      <td>1</td>\n",
              "      <td>1</td>\n",
              "      <td>0</td>\n",
              "      <td>0</td>\n",
              "      <td>0</td>\n",
              "      <td>0</td>\n",
              "      <td>1</td>\n",
              "      <td>...</td>\n",
              "      <td>1</td>\n",
              "      <td>1</td>\n",
              "      <td>0</td>\n",
              "      <td>0</td>\n",
              "      <td>1</td>\n",
              "      <td>0</td>\n",
              "      <td>1</td>\n",
              "      <td>0</td>\n",
              "      <td>0</td>\n",
              "      <td>0</td>\n",
              "    </tr>\n",
              "    <tr>\n",
              "      <th>4</th>\n",
              "      <td>CAESENEJoX1W7G5gAewKFFoq8zU</td>\n",
              "      <td>1</td>\n",
              "      <td>1</td>\n",
              "      <td>0</td>\n",
              "      <td>0</td>\n",
              "      <td>0</td>\n",
              "      <td>0</td>\n",
              "      <td>1</td>\n",
              "      <td>0</td>\n",
              "      <td>1</td>\n",
              "      <td>...</td>\n",
              "      <td>0</td>\n",
              "      <td>1</td>\n",
              "      <td>1</td>\n",
              "      <td>0</td>\n",
              "      <td>1</td>\n",
              "      <td>0</td>\n",
              "      <td>0</td>\n",
              "      <td>0</td>\n",
              "      <td>0</td>\n",
              "      <td>0</td>\n",
              "    </tr>\n",
              "  </tbody>\n",
              "</table>\n",
              "<p>5 rows × 26 columns</p>\n",
              "</div>"
            ],
            "text/plain": [
              "                       User_ID  Acting_Theater  Autos_Vehicles  \\\n",
              "0  CAESECWvI7DZYOWD8S69Nm7o4sU               0               0   \n",
              "1  CAESEEMUusIAjlacxDvd9wbhpvM               1               0   \n",
              "2  CAESEOMo4mm7x30CdSHJSK0dddw               1               0   \n",
              "3  CAESEAhtY4Xsxia4ez4oDkZ6lIc               1               0   \n",
              "4  CAESENEJoX1W7G5gAewKFFoq8zU               1               1   \n",
              "\n",
              "   Beauty_Fitness  Books_Literature  Business_Industrial  \\\n",
              "0               0                 0                    1   \n",
              "1               0                 1                    0   \n",
              "2               1                 0                    1   \n",
              "3               1                 1                    0   \n",
              "4               0                 0                    0   \n",
              "\n",
              "   Computers_Electronics  Finance  Games  Health        ...         \\\n",
              "0                      0        1      0       1        ...          \n",
              "1                      0        0      0       0        ...          \n",
              "2                      0        0      0       1        ...          \n",
              "3                      0        0      0       1        ...          \n",
              "4                      0        1      0       1        ...          \n",
              "\n",
              "   Online_Communities  People_Society  Pets_Animals  Real_Estate  Reference  \\\n",
              "0                   0               0             0            0          1   \n",
              "1                   1               1             0            0          0   \n",
              "2                   1               1             0            0          1   \n",
              "3                   1               1             0            0          1   \n",
              "4                   0               1             1            0          1   \n",
              "\n",
              "   Science  Shopping  Sports  Travel  World_Localities  \n",
              "0        1         1       0       0                 0  \n",
              "1        0         1       0       0                 0  \n",
              "2        1         0       0       0                 0  \n",
              "3        0         1       0       0                 0  \n",
              "4        0         0       0       0                 0  \n",
              "\n",
              "[5 rows x 26 columns]"
            ]
          },
          "metadata": {
            "tags": []
          },
          "execution_count": 9
        }
      ]
    },
    {
      "metadata": {
        "id": "9MUODHWERzdi",
        "colab_type": "code",
        "outputId": "4777eaaa-9ede-4fe2-a6fc-9a8d23e29cd0",
        "executionInfo": {
          "status": "ok",
          "timestamp": 1532458890618,
          "user_tz": 0,
          "elapsed": 204,
          "user": {
            "displayName": "Tai Conley",
            "photoUrl": "https://lh3.googleusercontent.com/a/default-user=s128",
            "userId": "102302718295477425927"
          }
        },
        "colab": {
          "height": 593
        }
      },
      "cell_type": "code",
      "source": [
        "df.info()"
      ],
      "execution_count": 0,
      "outputs": [
        {
          "output_type": "stream",
          "text": [
            "<class 'pandas.core.frame.DataFrame'>\n",
            "RangeIndex: 119421 entries, 0 to 119420\n",
            "Data columns (total 27 columns):\n",
            "User_ID                  119421 non-null object\n",
            "category                 119421 non-null object\n",
            "Acting_Theater           119421 non-null int64\n",
            "Autos_Vehicles           119421 non-null int64\n",
            "Beauty_Fitness           119421 non-null int64\n",
            "Books_Literature         119421 non-null int64\n",
            "Business_Industrial      119421 non-null int64\n",
            "Computers_Electronics    119421 non-null int64\n",
            "Finance                  119421 non-null int64\n",
            "Games                    119421 non-null int64\n",
            "Health                   119421 non-null int64\n",
            "Hobbies_Leisure          119421 non-null int64\n",
            "Home_Garden              119421 non-null int64\n",
            "Internet_Telecom         119421 non-null int64\n",
            "Jobs_Education           119421 non-null int64\n",
            "Law_Government           119421 non-null int64\n",
            "News                     119421 non-null int64\n",
            "Online_Communities       119421 non-null int64\n",
            "People_Society           119421 non-null int64\n",
            "Pets_Animals             119421 non-null int64\n",
            "Real_Estate              119421 non-null int64\n",
            "Reference                119421 non-null int64\n",
            "Science                  119421 non-null int64\n",
            "Shopping                 119421 non-null int64\n",
            "Sports                   119421 non-null int64\n",
            "Travel                   119421 non-null int64\n",
            "World_Localities         119421 non-null int64\n",
            "dtypes: int64(25), object(2)\n",
            "memory usage: 24.6+ MB\n"
          ],
          "name": "stdout"
        }
      ]
    },
    {
      "metadata": {
        "id": "wsgKlfFfqTDD",
        "colab_type": "text"
      },
      "cell_type": "markdown",
      "source": [
        "# Model"
      ]
    },
    {
      "metadata": {
        "id": "KMEXLzLoRmUN",
        "colab_type": "code",
        "colab": {}
      },
      "cell_type": "code",
      "source": [
        "df2 = df.drop(['User_ID', 'category'], axis=1)"
      ],
      "execution_count": 0,
      "outputs": []
    },
    {
      "metadata": {
        "id": "LR8NG9B7SCtE",
        "colab_type": "code",
        "outputId": "dffa5cd7-8dd3-4f7a-b6f5-c4eb1952dc2f",
        "executionInfo": {
          "status": "ok",
          "timestamp": 1532458898937,
          "user_tz": 0,
          "elapsed": 35,
          "user": {
            "displayName": "Tai Conley",
            "photoUrl": "https://lh3.googleusercontent.com/a/default-user=s128",
            "userId": "102302718295477425927"
          }
        },
        "colab": {
          "height": 248
        }
      },
      "cell_type": "code",
      "source": [
        "df2.head()"
      ],
      "execution_count": 0,
      "outputs": [
        {
          "output_type": "execute_result",
          "data": {
            "text/html": [
              "<div style=\"max-width:1500px;overflow:auto;\">\n",
              "<style scoped>\n",
              "    .dataframe tbody tr th:only-of-type {\n",
              "        vertical-align: middle;\n",
              "    }\n",
              "\n",
              "    .dataframe tbody tr th {\n",
              "        vertical-align: top;\n",
              "    }\n",
              "\n",
              "    .dataframe thead th {\n",
              "        text-align: right;\n",
              "    }\n",
              "</style>\n",
              "<table border=\"1\" class=\"dataframe\">\n",
              "  <thead>\n",
              "    <tr style=\"text-align: right;\">\n",
              "      <th></th>\n",
              "      <th>Acting_Theater</th>\n",
              "      <th>Autos_Vehicles</th>\n",
              "      <th>Beauty_Fitness</th>\n",
              "      <th>Books_Literature</th>\n",
              "      <th>Business_Industrial</th>\n",
              "      <th>Computers_Electronics</th>\n",
              "      <th>Finance</th>\n",
              "      <th>Games</th>\n",
              "      <th>Health</th>\n",
              "      <th>Hobbies_Leisure</th>\n",
              "      <th>...</th>\n",
              "      <th>Online_Communities</th>\n",
              "      <th>People_Society</th>\n",
              "      <th>Pets_Animals</th>\n",
              "      <th>Real_Estate</th>\n",
              "      <th>Reference</th>\n",
              "      <th>Science</th>\n",
              "      <th>Shopping</th>\n",
              "      <th>Sports</th>\n",
              "      <th>Travel</th>\n",
              "      <th>World_Localities</th>\n",
              "    </tr>\n",
              "  </thead>\n",
              "  <tbody>\n",
              "    <tr>\n",
              "      <th>0</th>\n",
              "      <td>0</td>\n",
              "      <td>0</td>\n",
              "      <td>0</td>\n",
              "      <td>0</td>\n",
              "      <td>1</td>\n",
              "      <td>0</td>\n",
              "      <td>1</td>\n",
              "      <td>0</td>\n",
              "      <td>1</td>\n",
              "      <td>0</td>\n",
              "      <td>...</td>\n",
              "      <td>0</td>\n",
              "      <td>0</td>\n",
              "      <td>0</td>\n",
              "      <td>0</td>\n",
              "      <td>1</td>\n",
              "      <td>1</td>\n",
              "      <td>1</td>\n",
              "      <td>0</td>\n",
              "      <td>0</td>\n",
              "      <td>0</td>\n",
              "    </tr>\n",
              "    <tr>\n",
              "      <th>1</th>\n",
              "      <td>1</td>\n",
              "      <td>0</td>\n",
              "      <td>0</td>\n",
              "      <td>1</td>\n",
              "      <td>0</td>\n",
              "      <td>0</td>\n",
              "      <td>0</td>\n",
              "      <td>0</td>\n",
              "      <td>0</td>\n",
              "      <td>0</td>\n",
              "      <td>...</td>\n",
              "      <td>1</td>\n",
              "      <td>1</td>\n",
              "      <td>0</td>\n",
              "      <td>0</td>\n",
              "      <td>0</td>\n",
              "      <td>0</td>\n",
              "      <td>1</td>\n",
              "      <td>0</td>\n",
              "      <td>0</td>\n",
              "      <td>0</td>\n",
              "    </tr>\n",
              "    <tr>\n",
              "      <th>2</th>\n",
              "      <td>1</td>\n",
              "      <td>0</td>\n",
              "      <td>1</td>\n",
              "      <td>0</td>\n",
              "      <td>1</td>\n",
              "      <td>0</td>\n",
              "      <td>0</td>\n",
              "      <td>0</td>\n",
              "      <td>1</td>\n",
              "      <td>0</td>\n",
              "      <td>...</td>\n",
              "      <td>1</td>\n",
              "      <td>1</td>\n",
              "      <td>0</td>\n",
              "      <td>0</td>\n",
              "      <td>1</td>\n",
              "      <td>1</td>\n",
              "      <td>0</td>\n",
              "      <td>0</td>\n",
              "      <td>0</td>\n",
              "      <td>0</td>\n",
              "    </tr>\n",
              "    <tr>\n",
              "      <th>3</th>\n",
              "      <td>1</td>\n",
              "      <td>0</td>\n",
              "      <td>1</td>\n",
              "      <td>1</td>\n",
              "      <td>0</td>\n",
              "      <td>0</td>\n",
              "      <td>0</td>\n",
              "      <td>0</td>\n",
              "      <td>1</td>\n",
              "      <td>0</td>\n",
              "      <td>...</td>\n",
              "      <td>1</td>\n",
              "      <td>1</td>\n",
              "      <td>0</td>\n",
              "      <td>0</td>\n",
              "      <td>1</td>\n",
              "      <td>0</td>\n",
              "      <td>1</td>\n",
              "      <td>0</td>\n",
              "      <td>0</td>\n",
              "      <td>0</td>\n",
              "    </tr>\n",
              "    <tr>\n",
              "      <th>4</th>\n",
              "      <td>1</td>\n",
              "      <td>1</td>\n",
              "      <td>0</td>\n",
              "      <td>0</td>\n",
              "      <td>0</td>\n",
              "      <td>0</td>\n",
              "      <td>1</td>\n",
              "      <td>0</td>\n",
              "      <td>1</td>\n",
              "      <td>0</td>\n",
              "      <td>...</td>\n",
              "      <td>0</td>\n",
              "      <td>1</td>\n",
              "      <td>1</td>\n",
              "      <td>0</td>\n",
              "      <td>1</td>\n",
              "      <td>0</td>\n",
              "      <td>0</td>\n",
              "      <td>0</td>\n",
              "      <td>0</td>\n",
              "      <td>0</td>\n",
              "    </tr>\n",
              "  </tbody>\n",
              "</table>\n",
              "<p>5 rows × 25 columns</p>\n",
              "</div>"
            ],
            "text/plain": [
              "   Acting_Theater  Autos_Vehicles  Beauty_Fitness  Books_Literature  \\\n",
              "0               0               0               0                 0   \n",
              "1               1               0               0                 1   \n",
              "2               1               0               1                 0   \n",
              "3               1               0               1                 1   \n",
              "4               1               1               0                 0   \n",
              "\n",
              "   Business_Industrial  Computers_Electronics  Finance  Games  Health  \\\n",
              "0                    1                      0        1      0       1   \n",
              "1                    0                      0        0      0       0   \n",
              "2                    1                      0        0      0       1   \n",
              "3                    0                      0        0      0       1   \n",
              "4                    0                      0        1      0       1   \n",
              "\n",
              "   Hobbies_Leisure        ...         Online_Communities  People_Society  \\\n",
              "0                0        ...                          0               0   \n",
              "1                0        ...                          1               1   \n",
              "2                0        ...                          1               1   \n",
              "3                0        ...                          1               1   \n",
              "4                0        ...                          0               1   \n",
              "\n",
              "   Pets_Animals  Real_Estate  Reference  Science  Shopping  Sports  Travel  \\\n",
              "0             0            0          1        1         1       0       0   \n",
              "1             0            0          0        0         1       0       0   \n",
              "2             0            0          1        1         0       0       0   \n",
              "3             0            0          1        0         1       0       0   \n",
              "4             1            0          1        0         0       0       0   \n",
              "\n",
              "   World_Localities  \n",
              "0                 0  \n",
              "1                 0  \n",
              "2                 0  \n",
              "3                 0  \n",
              "4                 0  \n",
              "\n",
              "[5 rows x 25 columns]"
            ]
          },
          "metadata": {
            "tags": []
          },
          "execution_count": 12
        }
      ]
    },
    {
      "metadata": {
        "id": "t3Xy4q4n5ydH",
        "colab_type": "text"
      },
      "cell_type": "markdown",
      "source": [
        "## Send df external to run kModes outside of colab"
      ]
    },
    {
      "metadata": {
        "id": "cRfg7ODFEcSy",
        "colab_type": "code",
        "colab": {}
      },
      "cell_type": "code",
      "source": [
        "#send df2 to path for model to run\n",
        "df2.to_csv(path_or_buf='data.csv',index=False,header=False)"
      ],
      "execution_count": 0,
      "outputs": []
    },
    {
      "metadata": {
        "id": "uf0KPu1457ki",
        "colab_type": "text"
      },
      "cell_type": "markdown",
      "source": [
        "## Bring model output back to colab, then send results to Google Sheets"
      ]
    },
    {
      "metadata": {
        "id": "6yrlkhOuwq5C",
        "colab_type": "code",
        "outputId": "3f01da4f-52d3-48e3-bac8-4b425405ccbb",
        "executionInfo": {
          "status": "ok",
          "timestamp": 1532643892154,
          "user_tz": 0,
          "elapsed": 6022,
          "user": {
            "displayName": "Tai Conley",
            "photoUrl": "https://lh3.googleusercontent.com/a/default-user=s128",
            "userId": "102302718295477425927"
          }
        },
        "colab": {
          "height": 55
        }
      },
      "cell_type": "code",
      "source": [
        "# Bring output of model back to colab\n",
        "file = %upload_files\n",
        "file = file.get('output.csv')\n",
        "file2 = file\n",
        "file2 = file2[3:-5]\n",
        "file2 = file2.replace('.', ',')\n",
        "file2 = file2.replace('\\n','')\n",
        "file2 = file2.replace(' ','')\n",
        "\n",
        "#my_list gets the model output\n",
        "my_list = file2.split(',][') \n",
        "\n",
        "#lst gets the header names\n",
        "lst = []\n",
        "lst = list(df2)\n",
        "lst = [item.encode('utf-8') for item in lst]\n",
        "\n",
        "#df3 is the df of the model output\n",
        "df3 = pd.DataFrame([sub.split(\",\") for sub in my_list])\n",
        "df3 = df3.drop(df3.columns[len(df3.columns)-1], axis=1)\n",
        "df3.columns = lst"
      ],
      "execution_count": 0,
      "outputs": [
        {
          "output_type": "display_data",
          "data": {
            "text/html": [
              "<input type=\"file\" id=\"files-id_819937265\" name=\"files[]\" multiple disabled />\n",
              "     <output id=result-id_819937265>\n",
              "      Upload widget is only available when the cell has been executed in the\n",
              "      current browser session. Please rerun this cell to enable.\n",
              "      </span>"
            ],
            "text/plain": [
              "<IPython.core.display.HTML at 0x7fedf460bb50>"
            ]
          },
          "metadata": {
            "tags": []
          }
        },
        {
          "output_type": "display_data",
          "data": {
            "application/javascript": [
              "/**\n",
              " * @fileoverview Supporting javascript for fileedit.py\n",
              " *\n",
              " * TODO(sandler): We should look into compiling these scripts as well, though\n",
              " * one needs to be careful when pulling big libraries like closure: these\n",
              " * scripts are inlined inside iframes, and it is then very easy to overflow the\n",
              " * file limit.\n",
              " */\n",
              "\n",
              "colabtools = colabtools || {};\n",
              "\n",
              "/** Namespace for fileedit */\n",
              "colabtools.fileedit = {};\n",
              "\n",
              "/** Prepares given element for upload\n",
              " * @param {string} input_id\n",
              " * @param {string} output_id\n",
              " */\n",
              "colabtools.fileedit.prepareForUpload = function(input_id, output_id) {\n",
              "  document.getElementById(input_id).addEventListener('change',\n",
              "      colabtools.fileedit.handleFileUploadSelect.bind(null, output_id), false);\n",
              "};\n",
              "\n",
              "/**\n",
              " * Handles file upload\n",
              " * @param {string} output_id\n",
              " * @param {Object} evt\n",
              " */\n",
              "colabtools.fileedit.handleFileUploadSelect = function(output_id, evt) {\n",
              "  var files = /** @type {FileList} */ (evt.target.files);\n",
              "  if (!files || !files.length) return;\n",
              "  var output = [];\n",
              "  var num_uploaded = 0;\n",
              "  var result = {};\n",
              "  for (var i = 0; i < files.length; i++) {\n",
              "    var f = files[i];\n",
              "    output.push(jQuery('<li>').append(\n",
              "        jQuery('<strong>').text(f.name),\n",
              "        '(', f.type || 'n/a', ') - ', f.size, ' bytes, last modified: ',\n",
              "         f.lastModifiedDate ? f.lastModifiedDate.toLocaleDateString() : 'n/a',\n",
              "       jQuery('<span>', {id: output_id + '-' + i})));\n",
              "    var reader = new FileReader();\n",
              "    var status_id = output_id + '-' + i;\n",
              "    reader.onload = (function(name, e) {\n",
              "      var fileContent = e.target.result;\n",
              "      num_uploaded++;\n",
              "      console.log(e);\n",
              "      result[name] = e.target.result;\n",
              "      console.log(fileContent.substr(1, 100));\n",
              "      if (num_uploaded == files.length) {\n",
              "        colabtools.sendMessageToKernel(output_id, result);\n",
              "      }\n",
              "    }).bind(null, f.name);\n",
              "    reader.readAsDataURL(f);\n",
              "  }\n",
              "  jQuery('#' + output_id).empty()\n",
              "      .append(jQuery('<ul>').append(output))\n",
              "      .append(jQuery('<span>', {id: 'status-' + output_id})\n",
              "          .text('Uploading...'));\n",
              "};\n",
              "\n",
              "\n",
              "(function(scope) {\n",
              "function span(text, styleAttributes = {}) {\n",
              "  const element = document.createElement('span');\n",
              "  element.textContent = text;\n",
              "  for (const key of Object.keys(styleAttributes)) {\n",
              "    element.style[key] = styleAttributes[key];\n",
              "  }\n",
              "  return element;\n",
              "}\n",
              "\n",
              "// Max number of bytes which will be uplaoded at a time.\n",
              "const MAX_PAYLOAD_SIZE = 100 * 1024;\n",
              "// Max amount of time to block waiting for the user.\n",
              "const FILE_CHANGE_TIMEOUT_MS = 30 * 1000;\n",
              "\n",
              "function uploadFilesSync(inputId, outputId) {\n",
              "  const steps = uploadFilesStep(inputId, outputId);\n",
              "  const outputElement = document.getElementById(outputId);\n",
              "  // Cache steps on the outputElement to make it available for the next call\n",
              "  // to uploadFilesSyncContinue from Python.\n",
              "  outputElement.steps = steps;\n",
              "\n",
              "  return uploadFilesSyncContinue(outputId);\n",
              "}\n",
              "\n",
              "// This is roughly an async generator (not supported in the browser yet),\n",
              "// where there are multiple asynchronous steps and the Python side is going\n",
              "// to poll for completion of each step.\n",
              "// This uses a Promise to block the python side on completion of each step,\n",
              "// then passes the result of the previous step as the input to the next step.\n",
              "function uploadFilesSyncContinue(outputId) {\n",
              "  const outputElement = document.getElementById(outputId);\n",
              "  const steps = outputElement.steps;\n",
              "\n",
              "  const next = steps.next(outputElement.lastPromiseValue);\n",
              "  return Promise.resolve(next.value.promise).then((value) => {\n",
              "    // Cache the last promise value to make it available to the next\n",
              "    // step of the generator.\n",
              "    outputElement.lastPromiseValue = value;\n",
              "    return next.value.response;\n",
              "  });\n",
              "}\n",
              "\n",
              "/**\n",
              " * Generator function which is called between each async step of the upload\n",
              " * process.\n",
              " * @param {string} inputId Element ID of the input file picker element.\n",
              " * @param {string} outputId Element ID of the output display.\n",
              " * @return {!Iterable<!Object>} Iterable of next steps.\n",
              " */\n",
              "function* uploadFilesStep(inputId, outputId) {\n",
              "  const inputElement = document.getElementById(inputId);\n",
              "  inputElement.disabled = false;\n",
              "\n",
              "  const outputElement = document.getElementById(outputId);\n",
              "  outputElement.innerHTML = '';\n",
              "\n",
              "  const pickedPromise = new Promise((resolve) => {\n",
              "    inputElement.addEventListener('change', (e) => {\n",
              "      resolve(e.target.files);\n",
              "    });\n",
              "  });\n",
              "\n",
              "  const cancel = document.createElement('button');\n",
              "  inputElement.parentElement.appendChild(cancel);\n",
              "  cancel.textContent = 'Cancel upload';\n",
              "  const cancelPromise = new Promise((resolve) => {\n",
              "    cancel.onclick = () => {\n",
              "      resolve(null);\n",
              "    };\n",
              "  });\n",
              "\n",
              "  // Cancel upload if user hasn't picked anything in timeout.\n",
              "  const timeoutPromise = new Promise((resolve) => {\n",
              "    setTimeout(() => {\n",
              "      resolve(null);\n",
              "    }, FILE_CHANGE_TIMEOUT_MS);\n",
              "  });\n",
              "\n",
              "  // Wait for the user to pick the files.\n",
              "  const files = yield {\n",
              "    promise: Promise.race([pickedPromise, timeoutPromise, cancelPromise]),\n",
              "    response: {\n",
              "      action: 'starting',\n",
              "    }\n",
              "  };\n",
              "\n",
              "  if (!files) {\n",
              "    return {\n",
              "      response: {\n",
              "        action: 'complete',\n",
              "      }\n",
              "    };\n",
              "  }\n",
              "\n",
              "  cancel.remove();\n",
              "\n",
              "  // Disable the input element since further picks are not allowed.\n",
              "  inputElement.disabled = true;\n",
              "\n",
              "  for (const file of files) {\n",
              "    const li = document.createElement('li');\n",
              "    li.append(span(file.name, {fontWeight: 'bold'}));\n",
              "    li.append(span(\n",
              "        `(${file.type || 'n/a'}) - ${file.size} bytes, ` +\n",
              "        `last modified: ${\n",
              "                          file.lastModifiedDate ?\n",
              "                              file.lastModifiedDate.toLocaleDateString() :\n",
              "                              'n/a'\n",
              "                        } - %`));\n",
              "    const percent = span('0 done');\n",
              "    li.appendChild(percent);\n",
              "\n",
              "    outputElement.appendChild(li);\n",
              "\n",
              "    const fileDataPromise = new Promise((resolve) => {\n",
              "      const reader = new FileReader();\n",
              "      reader.onload = (e) => {\n",
              "        resolve(e.target.result);\n",
              "      };\n",
              "      reader.readAsArrayBuffer(file);\n",
              "    });\n",
              "    // Wait for the data to be ready.\n",
              "    let fileData = yield {\n",
              "      promise: fileDataPromise,\n",
              "      response: {\n",
              "        action: 'continue',\n",
              "      }\n",
              "    };\n",
              "\n",
              "    // Use a chunked sending to avoid message size limits. See b/62115660.\n",
              "    let position = 0;\n",
              "    while (position < fileData.byteLength) {\n",
              "      const length = Math.min(fileData.byteLength - position, MAX_PAYLOAD_SIZE);\n",
              "      let chunk = new Uint8Array(fileData, position, length);\n",
              "      position += length;\n",
              "\n",
              "      const base64 = btoa(String.fromCharCode.apply(null, chunk));\n",
              "      yield {\n",
              "        response: {\n",
              "          action: 'append',\n",
              "          file: file.name,\n",
              "          data: base64,\n",
              "        },\n",
              "      };\n",
              "      percent.textContent =\n",
              "          `${Math.round((position / fileData.byteLength) * 100)} done`;\n",
              "    }\n",
              "  }\n",
              "\n",
              "  // All done.\n",
              "  yield {\n",
              "    response: {\n",
              "      action: 'complete',\n",
              "    }\n",
              "  };\n",
              "}\n",
              "\n",
              "scope.colabtools.fileedit.uploadFilesSync = uploadFilesSync;\n",
              "scope.colabtools.fileedit.uploadFilesSyncContinue = uploadFilesSyncContinue;\n",
              "})(self);\n",
              "\n",
              "\n",
              "// Annotation for chrome debugger\n",
              "//# sourceURL=fileedit.js\n"
            ],
            "text/plain": [
              "<google3.research.colab.lib.interactive_util.Javascript at 0x7fedf41ff7d0>"
            ]
          },
          "metadata": {
            "tags": [],
            "application/javascript": {
              "ephemeral": true
            }
          }
        }
      ]
    },
    {
      "metadata": {
        "id": "GdzI4ZztmyQl",
        "colab_type": "code",
        "outputId": "d2ae57e6-a815-4a14-8372-e7c1606db447",
        "executionInfo": {
          "status": "ok",
          "timestamp": 1532643900097,
          "user_tz": 0,
          "elapsed": 64,
          "user": {
            "displayName": "Tai Conley",
            "photoUrl": "https://lh3.googleusercontent.com/a/default-user=s128",
            "userId": "102302718295477425927"
          }
        },
        "colab": {
          "height": 465
        }
      },
      "cell_type": "code",
      "source": [
        "df3"
      ],
      "execution_count": 0,
      "outputs": [
        {
          "output_type": "execute_result",
          "data": {
            "text/html": [
              "<div style=\"max-width:1500px;overflow:auto;\">\n",
              "<style scoped>\n",
              "    .dataframe tbody tr th:only-of-type {\n",
              "        vertical-align: middle;\n",
              "    }\n",
              "\n",
              "    .dataframe tbody tr th {\n",
              "        vertical-align: top;\n",
              "    }\n",
              "\n",
              "    .dataframe thead th {\n",
              "        text-align: right;\n",
              "    }\n",
              "</style>\n",
              "<table border=\"1\" class=\"dataframe\">\n",
              "  <thead>\n",
              "    <tr style=\"text-align: right;\">\n",
              "      <th></th>\n",
              "      <th>Acting_Theater</th>\n",
              "      <th>Autos_Vehicles</th>\n",
              "      <th>Beauty_Fitness</th>\n",
              "      <th>Books_Literature</th>\n",
              "      <th>Business_Industrial</th>\n",
              "      <th>Computers_Electronics</th>\n",
              "      <th>Finance</th>\n",
              "      <th>Games</th>\n",
              "      <th>Health</th>\n",
              "      <th>Hobbies_Leisure</th>\n",
              "      <th>...</th>\n",
              "      <th>Online_Communities</th>\n",
              "      <th>People_Society</th>\n",
              "      <th>Pets_Animals</th>\n",
              "      <th>Real_Estate</th>\n",
              "      <th>Reference</th>\n",
              "      <th>Science</th>\n",
              "      <th>Shopping</th>\n",
              "      <th>Sports</th>\n",
              "      <th>Travel</th>\n",
              "      <th>World_Localities</th>\n",
              "    </tr>\n",
              "  </thead>\n",
              "  <tbody>\n",
              "    <tr>\n",
              "      <th>0</th>\n",
              "      <td>0</td>\n",
              "      <td>0</td>\n",
              "      <td>0</td>\n",
              "      <td>0</td>\n",
              "      <td>0</td>\n",
              "      <td>0</td>\n",
              "      <td>0</td>\n",
              "      <td>0</td>\n",
              "      <td>1</td>\n",
              "      <td>0</td>\n",
              "      <td>...</td>\n",
              "      <td>0</td>\n",
              "      <td>0</td>\n",
              "      <td>0</td>\n",
              "      <td>0</td>\n",
              "      <td>0</td>\n",
              "      <td>0</td>\n",
              "      <td>0</td>\n",
              "      <td>0</td>\n",
              "      <td>0</td>\n",
              "      <td>0</td>\n",
              "    </tr>\n",
              "    <tr>\n",
              "      <th>1</th>\n",
              "      <td>0</td>\n",
              "      <td>0</td>\n",
              "      <td>0</td>\n",
              "      <td>0</td>\n",
              "      <td>0</td>\n",
              "      <td>0</td>\n",
              "      <td>0</td>\n",
              "      <td>0</td>\n",
              "      <td>0</td>\n",
              "      <td>0</td>\n",
              "      <td>...</td>\n",
              "      <td>0</td>\n",
              "      <td>0</td>\n",
              "      <td>0</td>\n",
              "      <td>0</td>\n",
              "      <td>1</td>\n",
              "      <td>0</td>\n",
              "      <td>0</td>\n",
              "      <td>0</td>\n",
              "      <td>0</td>\n",
              "      <td>0</td>\n",
              "    </tr>\n",
              "    <tr>\n",
              "      <th>2</th>\n",
              "      <td>0</td>\n",
              "      <td>0</td>\n",
              "      <td>0</td>\n",
              "      <td>0</td>\n",
              "      <td>0</td>\n",
              "      <td>0</td>\n",
              "      <td>0</td>\n",
              "      <td>0</td>\n",
              "      <td>0</td>\n",
              "      <td>0</td>\n",
              "      <td>...</td>\n",
              "      <td>0</td>\n",
              "      <td>1</td>\n",
              "      <td>0</td>\n",
              "      <td>0</td>\n",
              "      <td>0</td>\n",
              "      <td>0</td>\n",
              "      <td>1</td>\n",
              "      <td>0</td>\n",
              "      <td>0</td>\n",
              "      <td>0</td>\n",
              "    </tr>\n",
              "    <tr>\n",
              "      <th>3</th>\n",
              "      <td>1</td>\n",
              "      <td>0</td>\n",
              "      <td>0</td>\n",
              "      <td>0</td>\n",
              "      <td>0</td>\n",
              "      <td>0</td>\n",
              "      <td>0</td>\n",
              "      <td>0</td>\n",
              "      <td>0</td>\n",
              "      <td>0</td>\n",
              "      <td>...</td>\n",
              "      <td>0</td>\n",
              "      <td>0</td>\n",
              "      <td>0</td>\n",
              "      <td>0</td>\n",
              "      <td>0</td>\n",
              "      <td>0</td>\n",
              "      <td>0</td>\n",
              "      <td>1</td>\n",
              "      <td>0</td>\n",
              "      <td>1</td>\n",
              "    </tr>\n",
              "    <tr>\n",
              "      <th>4</th>\n",
              "      <td>1</td>\n",
              "      <td>1</td>\n",
              "      <td>0</td>\n",
              "      <td>0</td>\n",
              "      <td>0</td>\n",
              "      <td>0</td>\n",
              "      <td>0</td>\n",
              "      <td>0</td>\n",
              "      <td>0</td>\n",
              "      <td>0</td>\n",
              "      <td>...</td>\n",
              "      <td>0</td>\n",
              "      <td>1</td>\n",
              "      <td>0</td>\n",
              "      <td>0</td>\n",
              "      <td>1</td>\n",
              "      <td>0</td>\n",
              "      <td>0</td>\n",
              "      <td>0</td>\n",
              "      <td>0</td>\n",
              "      <td>0</td>\n",
              "    </tr>\n",
              "    <tr>\n",
              "      <th>5</th>\n",
              "      <td>1</td>\n",
              "      <td>0</td>\n",
              "      <td>0</td>\n",
              "      <td>0</td>\n",
              "      <td>0</td>\n",
              "      <td>1</td>\n",
              "      <td>0</td>\n",
              "      <td>0</td>\n",
              "      <td>0</td>\n",
              "      <td>0</td>\n",
              "      <td>...</td>\n",
              "      <td>0</td>\n",
              "      <td>0</td>\n",
              "      <td>0</td>\n",
              "      <td>0</td>\n",
              "      <td>0</td>\n",
              "      <td>0</td>\n",
              "      <td>0</td>\n",
              "      <td>0</td>\n",
              "      <td>0</td>\n",
              "      <td>1</td>\n",
              "    </tr>\n",
              "    <tr>\n",
              "      <th>6</th>\n",
              "      <td>0</td>\n",
              "      <td>1</td>\n",
              "      <td>0</td>\n",
              "      <td>0</td>\n",
              "      <td>0</td>\n",
              "      <td>0</td>\n",
              "      <td>0</td>\n",
              "      <td>0</td>\n",
              "      <td>0</td>\n",
              "      <td>0</td>\n",
              "      <td>...</td>\n",
              "      <td>0</td>\n",
              "      <td>0</td>\n",
              "      <td>0</td>\n",
              "      <td>0</td>\n",
              "      <td>0</td>\n",
              "      <td>0</td>\n",
              "      <td>1</td>\n",
              "      <td>0</td>\n",
              "      <td>0</td>\n",
              "      <td>1</td>\n",
              "    </tr>\n",
              "    <tr>\n",
              "      <th>7</th>\n",
              "      <td>0</td>\n",
              "      <td>0</td>\n",
              "      <td>0</td>\n",
              "      <td>0</td>\n",
              "      <td>0</td>\n",
              "      <td>0</td>\n",
              "      <td>0</td>\n",
              "      <td>0</td>\n",
              "      <td>0</td>\n",
              "      <td>0</td>\n",
              "      <td>...</td>\n",
              "      <td>0</td>\n",
              "      <td>0</td>\n",
              "      <td>0</td>\n",
              "      <td>0</td>\n",
              "      <td>0</td>\n",
              "      <td>0</td>\n",
              "      <td>0</td>\n",
              "      <td>0</td>\n",
              "      <td>0</td>\n",
              "      <td>1</td>\n",
              "    </tr>\n",
              "    <tr>\n",
              "      <th>8</th>\n",
              "      <td>0</td>\n",
              "      <td>0</td>\n",
              "      <td>0</td>\n",
              "      <td>0</td>\n",
              "      <td>0</td>\n",
              "      <td>0</td>\n",
              "      <td>0</td>\n",
              "      <td>0</td>\n",
              "      <td>0</td>\n",
              "      <td>0</td>\n",
              "      <td>...</td>\n",
              "      <td>0</td>\n",
              "      <td>0</td>\n",
              "      <td>0</td>\n",
              "      <td>0</td>\n",
              "      <td>0</td>\n",
              "      <td>0</td>\n",
              "      <td>1</td>\n",
              "      <td>0</td>\n",
              "      <td>0</td>\n",
              "      <td>0</td>\n",
              "    </tr>\n",
              "    <tr>\n",
              "      <th>9</th>\n",
              "      <td>0</td>\n",
              "      <td>0</td>\n",
              "      <td>0</td>\n",
              "      <td>0</td>\n",
              "      <td>0</td>\n",
              "      <td>0</td>\n",
              "      <td>0</td>\n",
              "      <td>0</td>\n",
              "      <td>0</td>\n",
              "      <td>0</td>\n",
              "      <td>...</td>\n",
              "      <td>0</td>\n",
              "      <td>0</td>\n",
              "      <td>0</td>\n",
              "      <td>0</td>\n",
              "      <td>0</td>\n",
              "      <td>0</td>\n",
              "      <td>0</td>\n",
              "      <td>0</td>\n",
              "      <td>0</td>\n",
              "      <td>0</td>\n",
              "    </tr>\n",
              "    <tr>\n",
              "      <th>10</th>\n",
              "      <td>0</td>\n",
              "      <td>1</td>\n",
              "      <td>0</td>\n",
              "      <td>0</td>\n",
              "      <td>0</td>\n",
              "      <td>0</td>\n",
              "      <td>0</td>\n",
              "      <td>0</td>\n",
              "      <td>0</td>\n",
              "      <td>0</td>\n",
              "      <td>...</td>\n",
              "      <td>0</td>\n",
              "      <td>0</td>\n",
              "      <td>0</td>\n",
              "      <td>0</td>\n",
              "      <td>0</td>\n",
              "      <td>0</td>\n",
              "      <td>0</td>\n",
              "      <td>0</td>\n",
              "      <td>0</td>\n",
              "      <td>0</td>\n",
              "    </tr>\n",
              "    <tr>\n",
              "      <th>11</th>\n",
              "      <td>0</td>\n",
              "      <td>0</td>\n",
              "      <td>0</td>\n",
              "      <td>0</td>\n",
              "      <td>0</td>\n",
              "      <td>0</td>\n",
              "      <td>0</td>\n",
              "      <td>0</td>\n",
              "      <td>0</td>\n",
              "      <td>0</td>\n",
              "      <td>...</td>\n",
              "      <td>0</td>\n",
              "      <td>0</td>\n",
              "      <td>0</td>\n",
              "      <td>0</td>\n",
              "      <td>0</td>\n",
              "      <td>0</td>\n",
              "      <td>0</td>\n",
              "      <td>0</td>\n",
              "      <td>0</td>\n",
              "      <td>0</td>\n",
              "    </tr>\n",
              "  </tbody>\n",
              "</table>\n",
              "<p>12 rows × 25 columns</p>\n",
              "</div>"
            ],
            "text/plain": [
              "   Acting_Theater Autos_Vehicles Beauty_Fitness Books_Literature  \\\n",
              "0               0              0              0                0   \n",
              "1               0              0              0                0   \n",
              "2               0              0              0                0   \n",
              "3               1              0              0                0   \n",
              "4               1              1              0                0   \n",
              "5               1              0              0                0   \n",
              "6               0              1              0                0   \n",
              "7               0              0              0                0   \n",
              "8               0              0              0                0   \n",
              "9               0              0              0                0   \n",
              "10              0              1              0                0   \n",
              "11              0              0              0                0   \n",
              "\n",
              "   Business_Industrial Computers_Electronics Finance Games Health  \\\n",
              "0                    0                     0       0     0      1   \n",
              "1                    0                     0       0     0      0   \n",
              "2                    0                     0       0     0      0   \n",
              "3                    0                     0       0     0      0   \n",
              "4                    0                     0       0     0      0   \n",
              "5                    0                     1       0     0      0   \n",
              "6                    0                     0       0     0      0   \n",
              "7                    0                     0       0     0      0   \n",
              "8                    0                     0       0     0      0   \n",
              "9                    0                     0       0     0      0   \n",
              "10                   0                     0       0     0      0   \n",
              "11                   0                     0       0     0      0   \n",
              "\n",
              "   Hobbies_Leisure       ...        Online_Communities People_Society  \\\n",
              "0                0       ...                         0              0   \n",
              "1                0       ...                         0              0   \n",
              "2                0       ...                         0              1   \n",
              "3                0       ...                         0              0   \n",
              "4                0       ...                         0              1   \n",
              "5                0       ...                         0              0   \n",
              "6                0       ...                         0              0   \n",
              "7                0       ...                         0              0   \n",
              "8                0       ...                         0              0   \n",
              "9                0       ...                         0              0   \n",
              "10               0       ...                         0              0   \n",
              "11               0       ...                         0              0   \n",
              "\n",
              "   Pets_Animals Real_Estate Reference Science Shopping Sports Travel  \\\n",
              "0             0           0         0       0        0      0      0   \n",
              "1             0           0         1       0        0      0      0   \n",
              "2             0           0         0       0        1      0      0   \n",
              "3             0           0         0       0        0      1      0   \n",
              "4             0           0         1       0        0      0      0   \n",
              "5             0           0         0       0        0      0      0   \n",
              "6             0           0         0       0        1      0      0   \n",
              "7             0           0         0       0        0      0      0   \n",
              "8             0           0         0       0        1      0      0   \n",
              "9             0           0         0       0        0      0      0   \n",
              "10            0           0         0       0        0      0      0   \n",
              "11            0           0         0       0        0      0      0   \n",
              "\n",
              "   World_Localities  \n",
              "0                 0  \n",
              "1                 0  \n",
              "2                 0  \n",
              "3                 1  \n",
              "4                 0  \n",
              "5                 1  \n",
              "6                 1  \n",
              "7                 1  \n",
              "8                 0  \n",
              "9                 0  \n",
              "10                0  \n",
              "11                0  \n",
              "\n",
              "[12 rows x 25 columns]"
            ]
          },
          "metadata": {
            "tags": []
          },
          "execution_count": 16
        }
      ]
    },
    {
      "metadata": {
        "id": "v5CjJxjDnaAn",
        "colab_type": "code",
        "outputId": "6f0fe0a3-f6a7-47d1-f07b-8feff5e0aa1b",
        "executionInfo": {
          "status": "ok",
          "timestamp": 1532644372834,
          "user_tz": 0,
          "elapsed": 5017,
          "user": {
            "displayName": "Tai Conley",
            "photoUrl": "https://lh3.googleusercontent.com/a/default-user=s128",
            "userId": "102302718295477425927"
          }
        },
        "colab": {
          "height": 53
        }
      },
      "cell_type": "code",
      "source": [
        "# Use to build a new\n",
        "from colabtools import sheets\n",
        "sheet_id = sheets.create_spreadsheet('kModes'+str({dataset_name})) #build new workbook\n",
        "# Add New Sheets below\n",
        "kmodes = sheets.add_worksheet(sheet_id, 'kModes')\n",
        "converterPaths = sheets.add_worksheet(sheet_id, 'converterPaths')\n",
        "allPaths = sheets.add_worksheet(sheet_id, 'allPaths')"
      ],
      "execution_count": 0,
      "outputs": [
        {
          "output_type": "stream",
          "text": [
            "Beginning OAuth2 authorization process ...\n",
            "Loaded cached OAuth2 token.\n"
          ],
          "name": "stdout"
        }
      ]
    },
    {
      "metadata": {
        "id": "4ryCHXr6n9wp",
        "colab_type": "code",
        "outputId": "a7d7dfa2-72c1-438e-fb0c-9ac24c247451",
        "executionInfo": {
          "status": "ok",
          "timestamp": 1532644475499,
          "user_tz": 0,
          "elapsed": 65,
          "user": {
            "displayName": "Tai Conley",
            "photoUrl": "https://lh3.googleusercontent.com/a/default-user=s128",
            "userId": "102302718295477425927"
          }
        },
        "colab": {
          "height": 34
        }
      },
      "cell_type": "code",
      "source": [
        "%%substitute_globals\n",
        "%%html\n",
        "<a target=\"_blank\" href=\"https://docs.google.com/spreadsheets/d/{sheet_id}/edit\">\n",
        "Use this sheet!\n",
        "</a>"
      ],
      "execution_count": 0,
      "outputs": [
        {
          "output_type": "display_data",
          "data": {
            "text/html": [
              "<a target=\"_blank\" href=\"https://docs.google.com/spreadsheets/d/1-LeyTHX0UeXaCfnLBKqHBediSFbQQCUGFEU1MWGgQrk/edit\">\n",
              "Use this sheet!\n",
              "</a>"
            ],
            "text/plain": [
              "<IPython.core.display.HTML at 0x7fedc34e4890>"
            ]
          },
          "metadata": {
            "tags": []
          }
        }
      ]
    },
    {
      "metadata": {
        "id": "BI_9WnLtubac",
        "colab_type": "code",
        "colab": {}
      },
      "cell_type": "code",
      "source": [
        "# if sheet is expired\n",
        "# sheed_id = ''"
      ],
      "execution_count": 0,
      "outputs": []
    },
    {
      "metadata": {
        "id": "yrf12ZeDnwgb",
        "colab_type": "code",
        "outputId": "8dfd3064-6baf-4bf0-a35e-b93c5dd93187",
        "executionInfo": {
          "status": "ok",
          "timestamp": 1532644522593,
          "user_tz": 0,
          "elapsed": 528,
          "user": {
            "displayName": "Tai Conley",
            "photoUrl": "https://lh3.googleusercontent.com/a/default-user=s128",
            "userId": "102302718295477425927"
          }
        },
        "colab": {
          "height": 35
        }
      },
      "cell_type": "code",
      "source": [
        "sheets.update_cells(sheet_id, kmodes, df3 ,1,1,True, True) #the output model\n",
        "sheets.update_cells(sheet_id, converterPaths, df_allPaths_Converters ,1,1,True, True) #raw data for only converting paths\n",
        "sheets.update_cells(sheet_id, allPaths , df_allPaths ,1,1,True, True) #raw data for all paths"
      ],
      "execution_count": 0,
      "outputs": [
        {
          "output_type": "stream",
          "text": [
            "337 cells updated.\n"
          ],
          "name": "stdout"
        }
      ]
    },
    {
      "metadata": {
        "id": "OBvYd-86YmBn",
        "colab_type": "text"
      },
      "cell_type": "markdown",
      "source": [
        "# Data Exploration"
      ]
    },
    {
      "metadata": {
        "id": "DqJzOc7_GaHC",
        "colab_type": "code",
        "outputId": "ac5a3d31-7548-4213-cb32-2c084ec041dd",
        "executionInfo": {
          "status": "ok",
          "timestamp": 1532973857835,
          "user_tz": 0,
          "elapsed": 871,
          "user": {
            "displayName": "Tai Conley",
            "photoUrl": "https://lh3.googleusercontent.com/a/default-user=s128",
            "userId": "102302718295477425927"
          }
        },
        "colab": {
          "height": 449
        }
      },
      "cell_type": "code",
      "source": [
        "col_list= list(df)\n",
        "col_list.remove('User_ID')\n",
        "col_list.remove('category')\n",
        "\n",
        "summary = df[col_list].sum().sort_values(ascending = False)\n",
        "summary2 = df[col_list].count().sort_values(ascending = False)\n",
        "\n",
        "dfexp = pd.concat([summary, summary2], axis=1)\n",
        "dfexp = dfexp.reset_index()\n",
        "dfexp = dfexp.rename(index=str, columns={\"index\": \"Category\", 0: \"Sum\", 1: \"Count\"})\n",
        "dfexp = dfexp.sort_values('Sum')\n",
        "dfexp['Rate']=dfexp['Sum']/dfexp['Count']\n",
        "\n",
        "g = sns.factorplot(x=\"Category\",y='Rate', kind='bar',aspect=2, data=dfexp)\n",
        "g.set_xticklabels(rotation=90)\n",
        "g.ax.set_title(\"All Categories\")"
      ],
      "execution_count": 0,
      "outputs": [
        {
          "output_type": "stream",
          "text": [
            "\u001b[43;30;1mWARNING: Prodaccess expired or is expiring soon. Refresh prodaccess, or fix_ipython.disable_check_prodaccess to disable this warning.\u001b[0m\n"
          ],
          "name": "stdout"
        },
        {
          "output_type": "execute_result",
          "data": {
            "text/plain": [
              "<matplotlib.text.Text at 0x7fedc20a9b90>"
            ]
          },
          "metadata": {
            "tags": []
          },
          "execution_count": 29
        },
        {
          "output_type": "display_data",
          "data": {
            "image/png": "[encoded data removed]",
            "text/plain": [
              "<matplotlib.figure.Figure at 0x7fedadf45710>"
            ]
          },
          "metadata": {
            "tags": []
          }
        }
      ]
    },
    {
      "metadata": {
        "id": "S7GFmbrQcjFJ",
        "colab_type": "code",
        "outputId": "40b243aa-70c6-497c-ceca-f52d031d0d9b",
        "executionInfo": {
          "status": "ok",
          "timestamp": 1532973918243,
          "user_tz": 0,
          "elapsed": 267,
          "user": {
            "displayName": "Tai Conley",
            "photoUrl": "https://lh3.googleusercontent.com/a/default-user=s128",
            "userId": "102302718295477425927"
          }
        },
        "colab": {
          "height": 15
        }
      },
      "cell_type": "code",
      "source": [
        "n = 4 #user input\n",
        "lst_summary = list(summary.index)[0:n]"
      ],
      "execution_count": 0,
      "outputs": [
        {
          "output_type": "stream",
          "text": [
            "\u001b[43;30;1mWARNING: Prodaccess expired or is expiring soon. Refresh prodaccess, or fix_ipython.disable_check_prodaccess to disable this warning.\u001b[0m\n"
          ],
          "name": "stdout"
        }
      ]
    },
    {
      "metadata": {
        "id": "6jqGlHY8Zl8A",
        "colab_type": "code",
        "outputId": "766c6fc0-fdc7-4c57-a020-6f37f7ab8daa",
        "executionInfo": {
          "status": "ok",
          "timestamp": 1532973928574,
          "user_tz": 0,
          "elapsed": 331,
          "user": {
            "displayName": "Tai Conley",
            "photoUrl": "https://lh3.googleusercontent.com/a/default-user=s128",
            "userId": "102302718295477425927"
          }
        },
        "colab": {
          "height": 15
        }
      },
      "cell_type": "code",
      "source": [
        "#custom function\n",
        "def process (sub_category):\n",
        "  mask = df[sub_category] == 1\n",
        "  df_category = df[mask]\n",
        "  mask = 0\n",
        "  summary_category = df_category[col_list].sum().sort_values()\n",
        "  summary2_category = df_category[col_list].count().sort_values()\n",
        "  df2_category = pd.concat([summary_category, summary2_category], axis=1)\n",
        "  df2_category = df2_category.reset_index()\n",
        "  df2_category = df2_category.rename(index=str, columns={\"index\": \"Category\", 0: \"Sum\", 1: \"Count\"})\n",
        "  df2_category = df2_category.sort_values('Sum')\n",
        "  df2_category['Rate']=df2_category['Sum']/df2_category['Count']\n",
        "  mask2=df2_category['Category'] != sub_category\n",
        "  df2_category = df2_category[mask2]\n",
        "  mask2 = 0\n",
        "  g_category = sns.factorplot(x=\"Category\",y='Rate', kind='bar',aspect=2, data=df2_category, margin_titles=True)\n",
        "  g_category.set_xticklabels(rotation=90)\n",
        "  g_category.ax.set_title(\"Category: \"+str(sub_category))"
      ],
      "execution_count": 0,
      "outputs": [
        {
          "output_type": "stream",
          "text": [
            "\u001b[43;30;1mWARNING: Prodaccess expired or is expiring soon. Refresh prodaccess, or fix_ipython.disable_check_prodaccess to disable this warning.\u001b[0m\n"
          ],
          "name": "stdout"
        }
      ]
    },
    {
      "metadata": {
        "id": "enQ8OmqiStvK",
        "colab_type": "code",
        "outputId": "4f7fb2c3-c247-470d-a375-f3c31773345d",
        "executionInfo": {
          "status": "ok",
          "timestamp": 1532973934912,
          "user_tz": 0,
          "elapsed": 2475,
          "user": {
            "displayName": "Tai Conley",
            "photoUrl": "https://lh3.googleusercontent.com/a/default-user=s128",
            "userId": "102302718295477425927"
          }
        },
        "colab": {
          "height": 1660
        }
      },
      "cell_type": "code",
      "source": [
        "for x in lst_summary:\n",
        "  print x\n",
        "  process(x)"
      ],
      "execution_count": 0,
      "outputs": [
        {
          "output_type": "stream",
          "text": [
            "\u001b[43;30;1mWARNING: Prodaccess expired or is expiring soon. Refresh prodaccess, or fix_ipython.disable_check_prodaccess to disable this warning.\u001b[0m\n",
            "Shopping\n",
            "Autos_Vehicles\n",
            "World_Localities\n",
            "News\n"
          ],
          "name": "stdout"
        },
        {
          "output_type": "display_data",
          "data": {
            "image/png": "[encoded data removed]",
            "text/plain": [
              "<matplotlib.figure.Figure at 0x7fedc1834150>"
            ]
          },
          "metadata": {
            "tags": []
          }
        },
        {
          "output_type": "display_data",
          "data": {
            "image/png": "[encoded data removed]",
            "text/plain": [
              "<matplotlib.figure.Figure at 0x7fedc1d1f910>"
            ]
          },
          "metadata": {
            "tags": []
          }
        },
        {
          "output_type": "display_data",
          "data": {
            "image/png": "[encoded data removed]",
            "text/plain": [
              "<matplotlib.figure.Figure at 0x7fedc342f390>"
            ]
          },
          "metadata": {
            "tags": []
          }
        },
        {
          "output_type": "display_data",
          "data": {
            "image/png": "[encoded data removed]",
            "text/plain": [
              "<matplotlib.figure.Figure at 0x7fedc3427950>"
            ]
          },
          "metadata": {
            "tags": []
          }
        }
      ]
    }
  ]
}