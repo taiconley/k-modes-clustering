{
  "nbformat": 4,
  "nbformat_minor": 0,
  "metadata": {
    "colab": {
      "name": "ML K-Modes Clustering vFinal.ipynb",
      "version": "0.3.2",
      "provenance": [],
      "collapsed_sections": [],
      "include_colab_link": true
    },
    "kernelspec": {
      "name": "python2",
      "display_name": "Python 2"
    }
  },
  "cells": [
    {
      "cell_type": "markdown",
      "metadata": {
        "id": "view-in-github",
        "colab_type": "text"
      },
      "source": [
        "<a href=\"https://colab.research.google.com/github/taiconley/k-modes-clustering/blob/master/ML_K_Modes_Clustering_vFinal.ipynb\" target=\"_parent\"><img src=\"https://colab.research.google.com/assets/colab-badge.svg\" alt=\"Open In Colab\"/></a>"
      ]
    },
    {
      "cell_type": "markdown",
      "metadata": {
        "id": "nZ4o681N6hub",
        "colab_type": "text"
      },
      "source": [
        "# [Template] K-Modes Machine Learning Clustering\n",
        "\n",
        "#### Notes:\n",
        "* This code analyzes DCM Data Transfer files to impression level content pathing before a conversion. We then run K-Modes (https://pypi.org/project/kmodes/), which clusters categorical data.\n",
        "* To use:\n",
        "  * Update the project_id to one you have access to\n",
        "  * Update query parameters for the client and campaigns you are analyzing\n",
        "  * pip install kmodes\n"
      ]
    },
    {
      "cell_type": "markdown",
      "metadata": {
        "id": "etUk1u3p6St6",
        "colab_type": "text"
      },
      "source": [
        "# Import libraries, Initialize BQ, and provide Parameters"
      ]
    },
    {
      "cell_type": "code",
      "metadata": {
        "id": "DvwziQr0PsBL",
        "colab_type": "code",
        "outputId": "7e621c32-7002-4f0a-e078-3f00731a7d6d",
        "colab": {
          "base_uri": "https://localhost:8080/",
          "height": 34
        }
      },
      "source": [
        "import pandas as pd\n",
        "import numpy as np\n",
        "import seaborn as sns\n",
        "import matplotlib.pyplot as plt\n",
        "\n",
        "\n",
        "# colab tools & bigquery library\n",
        "from google.colab import auth\n",
        "from google.cloud import bigquery\n",
        "auth.authenticate_user()\n",
        "bigquery.USE_LEGACY_SQL = False\n",
        "project_id = \"\" #@param {type:\"string\"}\n",
        "query_project_id = \"\" #@param {type:\"string\"}\n",
        "client = bigquery.Client(project=project_id)\n",
        "\n",
        "!pip install --upgrade -q gspread\n",
        "import gspread\n",
        "from oauth2client.client import GoogleCredentials\n"
      ],
      "execution_count": 0,
      "outputs": [
        {
          "output_type": "stream",
          "text": [
            "  Building wheel for gspread (setup.py) ... \u001b[?25l\u001b[?25hdone\n"
          ],
          "name": "stdout"
        }
      ]
    },
    {
      "cell_type": "code",
      "metadata": {
        "id": "6-ZRvHLKPt1W",
        "colab_type": "code",
        "cellView": "both",
        "colab": {}
      },
      "source": [
        "#Query Parameters\n",
        "dataset_name = \"\" #@param\n",
        "client_id = \"\" #@param\n",
        "impression_table = \"`\"+dataset_name+\".impression_\"+client_id+\"`\" #@param\n",
        "activity_table = \"`\"+dataset_name+\".activity_\"+client_id+\"`\" #@param\n",
        "\n",
        "\n",
        "campaign_IDs =  \"('')\" #@param\n",
        "dbm_InsertionOrder_IDs = \"('')\" #@param\n",
        "activity_IDs = \"('')\" #@param\n",
        "\n",
        "timezone = \"'America/New_York'\" #@param\n",
        "start_date = \"'2018-01-01'\" #@param\n",
        "end_date  = \"'2018-12-31'\" #@param\n",
        "time_lag_days = \"30\" #@param\n",
        "\n",
        "#sample rate is the inverse of selection. ie, if 5 is picked, sample rate is 1 in 5\n",
        "sample_rate = 10 #@param "
      ],
      "execution_count": 0,
      "outputs": []
    },
    {
      "cell_type": "markdown",
      "metadata": {
        "id": "eV2A2gGL0wpw",
        "colab_type": "text"
      },
      "source": [
        "# Check Redaction"
      ]
    },
    {
      "cell_type": "code",
      "metadata": {
        "id": "ee8lHALtYX-8",
        "colab_type": "code",
        "colab": {}
      },
      "source": [
        "query_redaction = '''\n",
        "SELECT\n",
        "Count (*) as Impressions,\n",
        "SUM (Case when User_ID = '0' THEN 1 ELSE 0 END) AS User_ID0,\n",
        "SUM (Active_View_Eligible_Impressions) AS Eligible_Impressions,\n",
        "SUM (Active_View_Measurable_Impressions) AS Measurable_Impressions,\n",
        "SUM (Active_View_Viewable_Impressions) AS Viewable_Impressions\n",
        "FROM {impression_table}\n",
        "#WHERE Campaign_ID IN {campaign_IDs}\n",
        "WHERE DBM_Insertion_Order_ID IN {dbm_InsertionOrder_IDs}\n",
        "AND CAST(DATE(TIMESTAMP_MICROS(CAST(Event_Time as INT64)),\"America/New_York\") AS STRING) BETWEEN {start_date} AND {end_date}\n",
        "'''.format(impression_table=impression_table,campaign_IDs=campaign_IDs, dbm_InsertionOrder_IDs=dbm_InsertionOrder_IDs, start_date=start_date, end_date=end_date)"
      ],
      "execution_count": 0,
      "outputs": []
    },
    {
      "cell_type": "code",
      "metadata": {
        "id": "_qXfcyxG6xdt",
        "colab_type": "code",
        "outputId": "5699bad6-cf3e-4295-c651-d75683a69f42",
        "colab": {
          "base_uri": "https://localhost:8080/",
          "height": 72
        }
      },
      "source": [
        "df_redaction = pd.io.gbq.read_gbq(query_redaction, project_id=project_id, dialect='standard', verbose=False)"
      ],
      "execution_count": 0,
      "outputs": [
        {
          "output_type": "stream",
          "text": [
            "/usr/local/lib/python2.7/dist-packages/pandas_gbq/gbq.py:810: FutureWarning: verbose is deprecated and will be removed in a future version. Set logging level in order to vary verbosity\n",
            "  \"verbosity\", FutureWarning, stacklevel=1)\n"
          ],
          "name": "stderr"
        }
      ]
    },
    {
      "cell_type": "code",
      "metadata": {
        "id": "ZY_FPLkw65Ef",
        "colab_type": "code",
        "outputId": "34ee320f-67e6-4428-8b1e-20d0312fb912",
        "colab": {
          "base_uri": "https://localhost:8080/",
          "height": 105
        }
      },
      "source": [
        "df_redaction['Redaction']=df_redaction['User_ID0']/df_redaction['Impressions']\n",
        "df_redaction"
      ],
      "execution_count": 0,
      "outputs": [
        {
          "output_type": "execute_result",
          "data": {
            "application/vnd.google.colaboratory.module+javascript": "\n      import \"https://ssl.gstatic.com/colaboratory/data_table/d7940075f867fb9b/data_table.js\";\n\n      window.createDataTable({\n        data: [[{\n            'v': 0,\n            'f': \"0\",\n        },\n{\n            'v': 1056413690,\n            'f': \"1056413690\",\n        },\n{\n            'v': 26416142,\n            'f': \"26416142\",\n        },\n{\n            'v': 584405423,\n            'f': \"584405423\",\n        },\n{\n            'v': 549213204,\n            'f': \"549213204\",\n        },\n{\n            'v': 340170124,\n            'f': \"340170124\",\n        },\n{\n            'v': 0.0250054900367677,\n            'f': \"0.0250054900367677\",\n        }]],\n        columns: [[\"number\", \"index\"], [\"number\", \"Impressions\"], [\"number\", \"User_ID0\"], [\"number\", \"Eligible_Impressions\"], [\"number\", \"Measurable_Impressions\"], [\"number\", \"Viewable_Impressions\"], [\"number\", \"Redaction\"]],\n        rowsPerPage: 25,\n      });\n    ",
            "text/html": [
              "<div>\n",
              "<style scoped>\n",
              "    .dataframe tbody tr th:only-of-type {\n",
              "        vertical-align: middle;\n",
              "    }\n",
              "\n",
              "    .dataframe tbody tr th {\n",
              "        vertical-align: top;\n",
              "    }\n",
              "\n",
              "    .dataframe thead th {\n",
              "        text-align: right;\n",
              "    }\n",
              "</style>\n",
              "<table border=\"1\" class=\"dataframe\">\n",
              "  <thead>\n",
              "    <tr style=\"text-align: right;\">\n",
              "      <th></th>\n",
              "      <th>Impressions</th>\n",
              "      <th>User_ID0</th>\n",
              "      <th>Eligible_Impressions</th>\n",
              "      <th>Measurable_Impressions</th>\n",
              "      <th>Viewable_Impressions</th>\n",
              "      <th>Redaction</th>\n",
              "    </tr>\n",
              "  </thead>\n",
              "  <tbody>\n",
              "    <tr>\n",
              "      <th>0</th>\n",
              "      <td>1056413690</td>\n",
              "      <td>26416142</td>\n",
              "      <td>584405423</td>\n",
              "      <td>549213204</td>\n",
              "      <td>340170124</td>\n",
              "      <td>0.025005</td>\n",
              "    </tr>\n",
              "  </tbody>\n",
              "</table>\n",
              "</div>"
            ],
            "text/plain": [
              "   Impressions  User_ID0  ...  Viewable_Impressions  Redaction\n",
              "0   1056413690  26416142  ...             340170124   0.025005\n",
              "\n",
              "[1 rows x 6 columns]"
            ]
          },
          "metadata": {
            "tags": []
          },
          "execution_count": 5
        }
      ]
    },
    {
      "cell_type": "markdown",
      "metadata": {
        "id": "ibYeCRXp5TPT",
        "colab_type": "text"
      },
      "source": [
        "# Explore URL Categories"
      ]
    },
    {
      "cell_type": "code",
      "metadata": {
        "id": "LL9ZH8hb8M9q",
        "colab_type": "code",
        "colab": {}
      },
      "source": [
        "query_urlscat = '''\n",
        "SELECT\n",
        "  DBM_URL,\n",
        "  DBM_adx_Page_Categories,\n",
        "  Count (*) as Impressions\n",
        "FROM {impression_table}\n",
        "  WHERE Campaign_ID IN {campaign_IDs}\n",
        "  #AND DBM_adx_Page_Categories\tLIKE '%7 %' #to get a specific category example\n",
        "  AND DBM_Insertion_Order_ID IN {dbm_InsertionOrder_IDs}\n",
        "  AND User_ID != '0'\n",
        "  AND CAST(DATE(TIMESTAMP_MICROS(CAST(Event_Time as INT64)),\"America/New_York\") AS STRING) BETWEEN {start_date} AND {end_date}\n",
        "GROUP BY 1,2\n",
        "LIMIT 1000\n",
        "'''.format(impression_table=impression_table,campaign_IDs=campaign_IDs,dbm_InsertionOrder_IDs=dbm_InsertionOrder_IDs,start_date=start_date,end_date=end_date)"
      ],
      "execution_count": 0,
      "outputs": []
    },
    {
      "cell_type": "code",
      "metadata": {
        "id": "RfA5_pE19boa",
        "colab_type": "code",
        "colab": {}
      },
      "source": [
        "df_urlscat = pd.io.gbq.read_gbq(query_urlscat, project_id=project_id, dialect='standard', verbosity=False)"
      ],
      "execution_count": 0,
      "outputs": []
    },
    {
      "cell_type": "code",
      "metadata": {
        "id": "YxEQ2NBFmQxi",
        "colab_type": "code",
        "outputId": "81e4e92d-41d3-402a-8fed-35470d3126e2",
        "colab": {
          "base_uri": "https://localhost:8080/",
          "height": 218
        }
      },
      "source": [
        "pd.set_option('display.max_colwidth', -1) #needed to see full url path\n",
        "df_urlscat.head()"
      ],
      "execution_count": 0,
      "outputs": [
        {
          "output_type": "execute_result",
          "data": {
            "text/html": [
              "<div>\n",
              "<style scoped>\n",
              "    .dataframe tbody tr th:only-of-type {\n",
              "        vertical-align: middle;\n",
              "    }\n",
              "\n",
              "    .dataframe tbody tr th {\n",
              "        vertical-align: top;\n",
              "    }\n",
              "\n",
              "    .dataframe thead th {\n",
              "        text-align: right;\n",
              "    }\n",
              "</style>\n",
              "<table border=\"1\" class=\"dataframe\">\n",
              "  <thead>\n",
              "    <tr style=\"text-align: right;\">\n",
              "      <th></th>\n",
              "      <th>DBM_URL</th>\n",
              "      <th>DBM_adx_Page_Categories</th>\n",
              "      <th>Impressions</th>\n",
              "    </tr>\n",
              "  </thead>\n",
              "  <tbody>\n",
              "    <tr>\n",
              "      <th>0</th>\n",
              "      <td>http://www.foxnews.com/person/c/rachel-campos-duffy.html</td>\n",
              "      <td>3 16 36 112 358 1049</td>\n",
              "      <td>5</td>\n",
              "    </tr>\n",
              "    <tr>\n",
              "      <th>1</th>\n",
              "      <td>https://www.washingtonpost.com/news/dr-gridlock/wp/2018/03/08/with-urging-from-montgomery-co-officials-metro-preps-to-ramp-up-shady-grove-service-in-early-2019/</td>\n",
              "      <td>12 50 67 268 533 667 685 708 1084 5000 5237 5257 5277 5427</td>\n",
              "      <td>2</td>\n",
              "    </tr>\n",
              "    <tr>\n",
              "      <th>2</th>\n",
              "      <td>https://www.investopedia.com/ask/answers/accrued-interest-why-do-i-pay-when-i-buy-bond/</td>\n",
              "      <td>7 107 1457 1458</td>\n",
              "      <td>141</td>\n",
              "    </tr>\n",
              "    <tr>\n",
              "      <th>3</th>\n",
              "      <td>http://mentalfloss.com/article/18143/10-celebrity-tombstones-worth-laugh</td>\n",
              "      <td>3 22 34 182 184 895</td>\n",
              "      <td>2</td>\n",
              "    </tr>\n",
              "    <tr>\n",
              "      <th>4</th>\n",
              "      <td>http://www.ebay.com/sch/i.html?_nkw=wick+rope&amp;ul_noapp=true</td>\n",
              "      <td>3 12 20 24 65 263 284 566 1230 1361</td>\n",
              "      <td>2</td>\n",
              "    </tr>\n",
              "  </tbody>\n",
              "</table>\n",
              "</div>"
            ],
            "text/plain": [
              "                                                                                                                                                            DBM_URL  \\\n",
              "0  http://www.foxnews.com/person/c/rachel-campos-duffy.html                                                                                                           \n",
              "1  https://www.washingtonpost.com/news/dr-gridlock/wp/2018/03/08/with-urging-from-montgomery-co-officials-metro-preps-to-ramp-up-shady-grove-service-in-early-2019/   \n",
              "2  https://www.investopedia.com/ask/answers/accrued-interest-why-do-i-pay-when-i-buy-bond/                                                                            \n",
              "3  http://mentalfloss.com/article/18143/10-celebrity-tombstones-worth-laugh                                                                                           \n",
              "4  http://www.ebay.com/sch/i.html?_nkw=wick+rope&ul_noapp=true                                                                                                        \n",
              "\n",
              "                                      DBM_adx_Page_Categories  Impressions  \n",
              "0  3 16 36 112 358 1049                                        5            \n",
              "1  12 50 67 268 533 667 685 708 1084 5000 5237 5257 5277 5427  2            \n",
              "2  7 107 1457 1458                                             141          \n",
              "3  3 22 34 182 184 895                                         2            \n",
              "4  3 12 20 24 65 263 284 566 1230 1361                         2            "
            ]
          },
          "metadata": {
            "tags": []
          },
          "execution_count": 7
        }
      ]
    },
    {
      "cell_type": "markdown",
      "metadata": {
        "id": "_yTaQFwt01TH",
        "colab_type": "text"
      },
      "source": [
        "# Main Queries to prep model and for data exploration"
      ]
    },
    {
      "cell_type": "markdown",
      "metadata": {
        "id": "sSRgwWibbeXQ",
        "colab_type": "text"
      },
      "source": [
        "## User level output, which gets sent to K-Modes Model"
      ]
    },
    {
      "cell_type": "code",
      "metadata": {
        "id": "pzg4o20w48KX",
        "colab_type": "code",
        "colab": {}
      },
      "source": [
        "query_dfMain = '''\n",
        "\n",
        "WITH \n",
        "conversions AS (  #Note - this includes unattributed conversions\n",
        "  SELECT\n",
        "    User_ID,\n",
        "    MAX (Event_Time) AS Activity_Time # Capture the last site event for the user \n",
        "  FROM {activity_table}\n",
        "  WHERE User_ID != \"0\"\n",
        "    AND Activity_ID IN {activity_IDs}\n",
        "    AND DATE(TIMESTAMP_MICROS(Event_Time),{timezone}) BETWEEN {start_date} AND {end_date}\n",
        "    #AND User_ID = ''\n",
        "  GROUP BY 1\n",
        "),\n",
        " \n",
        "impressions AS (\n",
        "  SELECT\n",
        "    User_ID,\n",
        "    Event_Time AS Interaction_Time,\n",
        "    DBM_URL,\n",
        "    DBM_Adx_Page_Categories\n",
        "    #DATETIME(TIMESTAMP_MICROS(Event_Time),{timezone}) AS Interaction_Time_Formatted\n",
        "  FROM {impression_table}\n",
        "  WHERE User_ID != \"0\"\n",
        "    AND DBM_URL IS NOT NULL\n",
        "    AND DBM_Adx_Page_Categories IS NOT NULL\n",
        "    AND DATE(TIMESTAMP_MICROS(Event_Time),{timezone}) BETWEEN {start_date} AND {end_date}\n",
        "),\n",
        "\n",
        "full_path AS (\n",
        "  SELECT *,\n",
        "    (Activity_Time - Interaction_Time) as time_lag,\n",
        "    (Activity_Time - Interaction_Time) * (1e6*60*60*24) as time_lag_days\n",
        "  FROM impressions\n",
        "  INNER JOIN conversions USING (User_ID)\n",
        "    WHERE (Activity_Time - Interaction_Time) > 0\n",
        "    AND (Activity_Time - Interaction_Time) < {time_lag_days}*(1e6*60*60*24)\n",
        "),\n",
        "\n",
        "all_categories AS (\n",
        "SELECT \n",
        "  User_ID,\n",
        "  CONCAT(\",\",REPLACE(REPLACE(STRING_AGG (DISTINCT DBM_ADX_Page_Categories), \",\",\" \"),\" \",\",\")) as category\n",
        "FROM full_path\n",
        "GROUP BY 1\n",
        ")\n",
        "\n",
        "SELECT\n",
        "  User_ID,\n",
        "  category,\n",
        "  CASE WHEN category LIKE '%,3,%' THEN 1 ELSE 0 END AS Acting_Theater,\n",
        "  CASE WHEN category LIKE '%,47,%' THEN 1 ELSE 0 END AS Autos_Vehicles,\n",
        "  CASE WHEN category LIKE '%,44,%' THEN 1 ELSE 0 END AS Beauty_Fitness,\n",
        "  CASE WHEN category LIKE '%,22,%' THEN 1 ELSE 0 END AS Books_Literature,\n",
        "  CASE WHEN category LIKE '%,12,%' THEN 1 ELSE 0 END AS Business_Industrial,\n",
        "  CASE WHEN category LIKE '%,5,%' THEN 1 ELSE 0 END AS Computers_Electronics,\n",
        "  CASE WHEN category LIKE '%,7,%' THEN 1 ELSE 0 END AS Finance,\n",
        "  CASE WHEN category LIKE '%,8,%' THEN 1 ELSE 0 END AS Games,\n",
        "  CASE WHEN category LIKE '%,45,%' THEN 1 ELSE 0 END AS Health,\n",
        "  CASE WHEN category LIKE '%,65,%' THEN 1 ELSE 0 END AS Hobbies_Leisure,\n",
        "  CASE WHEN category LIKE '%,11,%' THEN 1 ELSE 0 END AS Home_Garden,\n",
        "  CASE WHEN category LIKE '%,13,%' THEN 1 ELSE 0 END AS Internet_Telecom,\n",
        "  CASE WHEN category LIKE '%,958,%' THEN 1 ELSE 0 END AS Jobs_Education,\n",
        "  CASE WHEN category LIKE '%,19,%' THEN 1 ELSE 0 END AS Law_Government,\n",
        "  CASE WHEN category LIKE '%,16,%' THEN 1 ELSE 0 END AS News,\n",
        "  CASE WHEN category LIKE '%,299,%' THEN 1 ELSE 0 END AS Online_Communities,\n",
        "  CASE WHEN category LIKE '%,14,%' THEN 1 ELSE 0 END AS People_Society,\n",
        "  CASE WHEN category LIKE '%,66,%' THEN 1 ELSE 0 END AS Pets_Animals,\n",
        "  CASE WHEN category LIKE '%,29,%' THEN 1 ELSE 0 END AS Real_Estate,\n",
        "  CASE WHEN category LIKE '%,533,%' THEN 1 ELSE 0 END AS Reference,\n",
        "  CASE WHEN category LIKE '%,174,%' THEN 1 ELSE 0 END AS Science,\n",
        "  CASE WHEN category LIKE '%,18,%' THEN 1 ELSE 0 END AS Shopping,\n",
        "  CASE WHEN category LIKE '%,20,%' THEN 1 ELSE 0 END AS Sports,\n",
        "  CASE WHEN category LIKE '%,67,%' THEN 1 ELSE 0 END AS Travel,\n",
        "  CASE WHEN category LIKE '%,5000,%' THEN 1 ELSE 0 END AS World_Localities\n",
        "FROM\n",
        "  all_categories\n",
        "  #WHERE MOD(ABS(Farm_Fingerprint (User_ID)),{sample_rate})=0 #uncomment if you need to sample your data\n",
        "'''.format(activity_table=activity_table,activity_IDs=activity_IDs,timezone=timezone,start_date=start_date,end_date=end_date,impression_table=impression_table,time_lag_days=time_lag_days,sample_rate=sample_rate)"
      ],
      "execution_count": 0,
      "outputs": []
    },
    {
      "cell_type": "code",
      "metadata": {
        "id": "0NKVRb33AtMO",
        "colab_type": "code",
        "colab": {}
      },
      "source": [
        "df_main = pd.io.gbq.read_gbq(query_dfMain, project_id=project_id, dialect='standard', verbose=False)"
      ],
      "execution_count": 0,
      "outputs": []
    },
    {
      "cell_type": "code",
      "metadata": {
        "id": "Mm9zyMGBBVv6",
        "colab_type": "code",
        "outputId": "603f0244-e27a-48a2-94a7-83ff9054704e",
        "colab": {
          "base_uri": "https://localhost:8080/",
          "height": 247
        }
      },
      "source": [
        "df_main.head()"
      ],
      "execution_count": 0,
      "outputs": [
        {
          "output_type": "execute_result",
          "data": {
            "text/html": [
              "<div>\n",
              "<style scoped>\n",
              "    .dataframe tbody tr th:only-of-type {\n",
              "        vertical-align: middle;\n",
              "    }\n",
              "\n",
              "    .dataframe tbody tr th {\n",
              "        vertical-align: top;\n",
              "    }\n",
              "\n",
              "    .dataframe thead th {\n",
              "        text-align: right;\n",
              "    }\n",
              "</style>\n",
              "<table border=\"1\" class=\"dataframe\">\n",
              "  <thead>\n",
              "    <tr style=\"text-align: right;\">\n",
              "      <th></th>\n",
              "      <th>User_ID</th>\n",
              "      <th>category</th>\n",
              "      <th>Acting_Theater</th>\n",
              "      <th>Autos_Vehicles</th>\n",
              "      <th>Beauty_Fitness</th>\n",
              "      <th>Books_Literature</th>\n",
              "      <th>Business_Industrial</th>\n",
              "      <th>Computers_Electronics</th>\n",
              "      <th>Finance</th>\n",
              "      <th>Games</th>\n",
              "      <th>...</th>\n",
              "      <th>Online_Communities</th>\n",
              "      <th>People_Society</th>\n",
              "      <th>Pets_Animals</th>\n",
              "      <th>Real_Estate</th>\n",
              "      <th>Reference</th>\n",
              "      <th>Science</th>\n",
              "      <th>Shopping</th>\n",
              "      <th>Sports</th>\n",
              "      <th>Travel</th>\n",
              "      <th>World_Localities</th>\n",
              "    </tr>\n",
              "  </thead>\n",
              "  <tbody>\n",
              "    <tr>\n",
              "      <th>0</th>\n",
              "      <td>AMsySZYyEcvFyiFzpcJeM61T0Mmj</td>\n",
              "      <td>,3,16,20,258,569,1001,1077,1273,1599,7,16,107,...</td>\n",
              "      <td>1</td>\n",
              "      <td>0</td>\n",
              "      <td>0</td>\n",
              "      <td>0</td>\n",
              "      <td>0</td>\n",
              "      <td>0</td>\n",
              "      <td>1</td>\n",
              "      <td>1</td>\n",
              "      <td>...</td>\n",
              "      <td>0</td>\n",
              "      <td>0</td>\n",
              "      <td>0</td>\n",
              "      <td>0</td>\n",
              "      <td>0</td>\n",
              "      <td>0</td>\n",
              "      <td>0</td>\n",
              "      <td>1</td>\n",
              "      <td>1</td>\n",
              "      <td>1</td>\n",
              "    </tr>\n",
              "    <tr>\n",
              "      <th>1</th>\n",
              "      <td>AMsySZal23z96xWjZStlYidOAtmj</td>\n",
              "      <td>,16,20,259,1001,1077,5000,5237,5257,5259,5261,...</td>\n",
              "      <td>1</td>\n",
              "      <td>0</td>\n",
              "      <td>0</td>\n",
              "      <td>0</td>\n",
              "      <td>1</td>\n",
              "      <td>1</td>\n",
              "      <td>1</td>\n",
              "      <td>1</td>\n",
              "      <td>...</td>\n",
              "      <td>0</td>\n",
              "      <td>0</td>\n",
              "      <td>0</td>\n",
              "      <td>0</td>\n",
              "      <td>1</td>\n",
              "      <td>0</td>\n",
              "      <td>1</td>\n",
              "      <td>1</td>\n",
              "      <td>0</td>\n",
              "      <td>1</td>\n",
              "    </tr>\n",
              "    <tr>\n",
              "      <th>2</th>\n",
              "      <td>AMsySZaNwJ3uf1tRjAtyBkdBXfIA</td>\n",
              "      <td>,7,16,18,107,531,784,1163,1179,22,533,692,980</td>\n",
              "      <td>0</td>\n",
              "      <td>0</td>\n",
              "      <td>0</td>\n",
              "      <td>1</td>\n",
              "      <td>0</td>\n",
              "      <td>0</td>\n",
              "      <td>1</td>\n",
              "      <td>0</td>\n",
              "      <td>...</td>\n",
              "      <td>0</td>\n",
              "      <td>0</td>\n",
              "      <td>0</td>\n",
              "      <td>0</td>\n",
              "      <td>1</td>\n",
              "      <td>0</td>\n",
              "      <td>1</td>\n",
              "      <td>0</td>\n",
              "      <td>0</td>\n",
              "      <td>0</td>\n",
              "    </tr>\n",
              "    <tr>\n",
              "      <th>3</th>\n",
              "      <td>AMsySZaz_ZJRKd-_Ff8cF6xjpch-</td>\n",
              "      <td>,71,122,909,911,913,1512,1544,1566</td>\n",
              "      <td>0</td>\n",
              "      <td>0</td>\n",
              "      <td>0</td>\n",
              "      <td>0</td>\n",
              "      <td>0</td>\n",
              "      <td>0</td>\n",
              "      <td>0</td>\n",
              "      <td>0</td>\n",
              "      <td>...</td>\n",
              "      <td>0</td>\n",
              "      <td>0</td>\n",
              "      <td>0</td>\n",
              "      <td>0</td>\n",
              "      <td>0</td>\n",
              "      <td>0</td>\n",
              "      <td>0</td>\n",
              "      <td>0</td>\n",
              "      <td>0</td>\n",
              "      <td>0</td>\n",
              "    </tr>\n",
              "    <tr>\n",
              "      <th>4</th>\n",
              "      <td>AMsySZYy22pUmBwYvQsI4oDsD0rK</td>\n",
              "      <td>,5,434,533,694,742,980,18,292,531,18,64,292,53...</td>\n",
              "      <td>0</td>\n",
              "      <td>0</td>\n",
              "      <td>0</td>\n",
              "      <td>0</td>\n",
              "      <td>1</td>\n",
              "      <td>1</td>\n",
              "      <td>0</td>\n",
              "      <td>0</td>\n",
              "      <td>...</td>\n",
              "      <td>1</td>\n",
              "      <td>0</td>\n",
              "      <td>0</td>\n",
              "      <td>0</td>\n",
              "      <td>1</td>\n",
              "      <td>0</td>\n",
              "      <td>1</td>\n",
              "      <td>0</td>\n",
              "      <td>1</td>\n",
              "      <td>1</td>\n",
              "    </tr>\n",
              "  </tbody>\n",
              "</table>\n",
              "<p>5 rows × 27 columns</p>\n",
              "</div>"
            ],
            "text/plain": [
              "                        User_ID  \\\n",
              "0  AMsySZYyEcvFyiFzpcJeM61T0Mmj   \n",
              "1  AMsySZal23z96xWjZStlYidOAtmj   \n",
              "2  AMsySZaNwJ3uf1tRjAtyBkdBXfIA   \n",
              "3  AMsySZaz_ZJRKd-_Ff8cF6xjpch-   \n",
              "4  AMsySZYy22pUmBwYvQsI4oDsD0rK   \n",
              "\n",
              "                                            category  Acting_Theater  \\\n",
              "0  ,3,16,20,258,569,1001,1077,1273,1599,7,16,107,...               1   \n",
              "1  ,16,20,259,1001,1077,5000,5237,5257,5259,5261,...               1   \n",
              "2      ,7,16,18,107,531,784,1163,1179,22,533,692,980               0   \n",
              "3                 ,71,122,909,911,913,1512,1544,1566               0   \n",
              "4  ,5,434,533,694,742,980,18,292,531,18,64,292,53...               0   \n",
              "\n",
              "   Autos_Vehicles  Beauty_Fitness  Books_Literature  Business_Industrial  \\\n",
              "0               0               0                 0                    0   \n",
              "1               0               0                 0                    1   \n",
              "2               0               0                 1                    0   \n",
              "3               0               0                 0                    0   \n",
              "4               0               0                 0                    1   \n",
              "\n",
              "   Computers_Electronics  Finance  Games        ...         \\\n",
              "0                      0        1      1        ...          \n",
              "1                      1        1      1        ...          \n",
              "2                      0        1      0        ...          \n",
              "3                      0        0      0        ...          \n",
              "4                      1        0      0        ...          \n",
              "\n",
              "   Online_Communities  People_Society  Pets_Animals  Real_Estate  Reference  \\\n",
              "0                   0               0             0            0          0   \n",
              "1                   0               0             0            0          1   \n",
              "2                   0               0             0            0          1   \n",
              "3                   0               0             0            0          0   \n",
              "4                   1               0             0            0          1   \n",
              "\n",
              "   Science  Shopping  Sports  Travel  World_Localities  \n",
              "0        0         0       1       1                 1  \n",
              "1        0         1       1       0                 1  \n",
              "2        0         1       0       0                 0  \n",
              "3        0         0       0       0                 0  \n",
              "4        0         1       0       1                 1  \n",
              "\n",
              "[5 rows x 27 columns]"
            ]
          },
          "metadata": {
            "tags": []
          },
          "execution_count": 13
        }
      ]
    },
    {
      "cell_type": "markdown",
      "metadata": {
        "id": "t_I5DFq1bp1O",
        "colab_type": "text"
      },
      "source": [
        "## Paths output for all converters only (Used to calculate lift)"
      ]
    },
    {
      "cell_type": "code",
      "metadata": {
        "id": "oNpZygRvDsy_",
        "colab_type": "code",
        "colab": {}
      },
      "source": [
        "query_dfAllPathsConverters = '''\n",
        "\n",
        "# query provides an output with the count of cookies aggregated to the path level for converters only\n",
        "WITH \n",
        "conversions AS (  #Note - this includes unattributed conversions\n",
        "  SELECT\n",
        "    User_ID,\n",
        "    MAX (Event_Time) AS Activity_Time # Capture the last site event for the user \n",
        "  FROM {activity_table}\n",
        "  WHERE User_ID != \"0\"\n",
        "    AND Activity_ID IN {activity_IDs}\n",
        "    AND DATE(TIMESTAMP_MICROS(Event_Time),{timezone}) BETWEEN {start_date} AND {end_date}\n",
        "    #AND User_ID = ''\n",
        "  GROUP BY 1\n",
        "),\n",
        " \n",
        "impressions AS (\n",
        "  SELECT\n",
        "    User_ID,\n",
        "    Event_Time AS Interaction_Time,\n",
        "    DBM_URL,\n",
        "    DBM_Adx_Page_Categories\n",
        "    #DATETIME(TIMESTAMP_MICROS(Event_Time),{timezone}) AS Interaction_Time_Formatted\n",
        "  FROM {impression_table}\n",
        "  WHERE User_ID != \"0\"\n",
        "    AND DBM_URL IS NOT NULL\n",
        "    AND DBM_Adx_Page_Categories IS NOT NULL\n",
        "    AND DATE(TIMESTAMP_MICROS(Event_Time),{timezone}) BETWEEN {start_date} AND {end_date}\n",
        "),\n",
        "\n",
        "full_path AS (\n",
        "  SELECT *,\n",
        "    (Activity_Time - Interaction_Time) as time_lag,\n",
        "    (Activity_Time - Interaction_Time) * (1e6*60*60*24) as time_lag_days\n",
        "  FROM impressions\n",
        "  INNER JOIN conversions USING (User_ID)\n",
        "    WHERE (Activity_Time - Interaction_Time) > 0\n",
        "    AND (Activity_Time - Interaction_Time) < {time_lag_days}*(1e6*60*60*24)\n",
        "),\n",
        "\n",
        "all_categories AS (\n",
        "SELECT \n",
        "  User_ID,\n",
        "  CONCAT(\",\",REPLACE(REPLACE(STRING_AGG (DISTINCT DBM_ADX_Page_Categories), \",\",\" \"),\" \",\",\")) as category\n",
        "FROM full_path\n",
        "  GROUP BY 1\n",
        "),\n",
        "\n",
        "all_categories_sampled AS (\n",
        "\n",
        "SELECT\n",
        "  User_ID,\n",
        "  category,\n",
        "  CASE WHEN category LIKE '%,3,%' THEN 1 ELSE 0 END AS Acting_Theater,\n",
        "  CASE WHEN category LIKE '%,47,%' THEN 1 ELSE 0 END AS Autos_Vehicles,\n",
        "  CASE WHEN category LIKE '%,44,%' THEN 1 ELSE 0 END AS Beauty_Fitness,\n",
        "  CASE WHEN category LIKE '%,22,%' THEN 1 ELSE 0 END AS Books_Literature,\n",
        "  CASE WHEN category LIKE '%,12,%' THEN 1 ELSE 0 END AS Business_Industrial,\n",
        "  CASE WHEN category LIKE '%,5,%' THEN 1 ELSE 0 END AS Computers_Electronics,\n",
        "  CASE WHEN category LIKE '%,7,%' THEN 1 ELSE 0 END AS Finance,\n",
        "  CASE WHEN category LIKE '%,8,%' THEN 1 ELSE 0 END AS Games,\n",
        "  CASE WHEN category LIKE '%,45,%' THEN 1 ELSE 0 END AS Health,\n",
        "  CASE WHEN category LIKE '%,65,%' THEN 1 ELSE 0 END AS Hobbies_Leisure,\n",
        "  CASE WHEN category LIKE '%,11,%' THEN 1 ELSE 0 END AS Home_Garden,\n",
        "  CASE WHEN category LIKE '%,13,%' THEN 1 ELSE 0 END AS Internet_Telecom,\n",
        "  CASE WHEN category LIKE '%,958,%' THEN 1 ELSE 0 END AS Jobs_Education,\n",
        "  CASE WHEN category LIKE '%,19,%' THEN 1 ELSE 0 END AS Law_Government,\n",
        "  CASE WHEN category LIKE '%,16,%' THEN 1 ELSE 0 END AS News,\n",
        "  CASE WHEN category LIKE '%,299,%' THEN 1 ELSE 0 END AS Online_Communities,\n",
        "  CASE WHEN category LIKE '%,14,%' THEN 1 ELSE 0 END AS People_Society,\n",
        "  CASE WHEN category LIKE '%,66,%' THEN 1 ELSE 0 END AS Pets_Animals,\n",
        "  CASE WHEN category LIKE '%,29,%' THEN 1 ELSE 0 END AS Real_Estate,\n",
        "  CASE WHEN category LIKE '%,533,%' THEN 1 ELSE 0 END AS Reference,\n",
        "  CASE WHEN category LIKE '%,174,%' THEN 1 ELSE 0 END AS Science,\n",
        "  CASE WHEN category LIKE '%,18,%' THEN 1 ELSE 0 END AS Shopping,\n",
        "  CASE WHEN category LIKE '%,20,%' THEN 1 ELSE 0 END AS Sports,\n",
        "  CASE WHEN category LIKE '%,67,%' THEN 1 ELSE 0 END AS Travel,\n",
        "  CASE WHEN category LIKE '%,5000,%' THEN 1 ELSE 0 END AS World_Localities\n",
        "FROM\n",
        "  all_categories\n",
        "  #WHERE MOD(ABS(Farm_Fingerprint (User_ID)),{sample_rate})=0 #uncomment to sample data\n",
        "),\n",
        "\n",
        "categories_string AS (\n",
        "SELECT\n",
        "  User_ID,\n",
        "  category,\n",
        "  concat(\n",
        "  CAST (Acting_Theater AS string), \",\" ,\n",
        "  CAST (Autos_Vehicles AS string), \",\" ,\n",
        "  CAST (Beauty_Fitness AS string), \",\" ,\n",
        "  CAST (Books_Literature AS string), \",\" ,\n",
        "  CAST (Business_Industrial AS string), \",\" ,\n",
        "  CAST (Computers_Electronics AS string), \",\" ,\n",
        "  CAST (Finance AS string), \",\" ,\n",
        "  CAST (Games AS string), \",\" ,\n",
        "  CAST (Health AS string), \",\" ,\n",
        "  CAST (Hobbies_Leisure AS string), \",\" ,\n",
        "  CAST (Home_Garden AS string), \",\" ,\n",
        "  CAST (Internet_Telecom AS string), \",\" ,\n",
        "  CAST (Jobs_Education AS string), \",\" ,\n",
        "  CAST (Law_Government AS string), \",\" ,\n",
        "  CAST (News AS string), \",\" ,\n",
        "  CAST (Online_Communities AS string), \",\" ,\n",
        "  CAST (People_Society AS string), \",\" ,\n",
        "  CAST (Pets_Animals AS string), \",\" ,\n",
        "  CAST (Real_Estate AS string), \",\" ,\n",
        "  CAST (Reference AS string), \",\" ,\n",
        "  CAST (Science AS string), \",\" ,\n",
        "  CAST (Shopping AS string), \",\" ,\n",
        "  CAST (Sports AS string), \",\" ,\n",
        "  CAST (Travel AS string), \",\" ,\n",
        "  CAST (World_Localities AS string)) AS category_string\n",
        "FROM all_categories_sampled\n",
        ")\n",
        "\n",
        "SELECT\n",
        "  category_string,\n",
        "  COUNT (User_ID) AS uniques\n",
        "FROM\n",
        "  categories_string\n",
        "  GROUP BY 1\n",
        "  ORDER BY 2 DESC\n",
        "'''.format(activity_table=activity_table,activity_IDs=activity_IDs,timezone=timezone,start_date=start_date,end_date=end_date,impression_table=impression_table,time_lag_days=time_lag_days,sample_rate=sample_rate)"
      ],
      "execution_count": 0,
      "outputs": []
    },
    {
      "cell_type": "code",
      "metadata": {
        "id": "vETxnchsCQpU",
        "colab_type": "code",
        "colab": {}
      },
      "source": [
        "df_allPaths_Converters = pd.io.gbq.read_gbq(query_dfAllPathsConverters, project_id=project_id, dialect='standard', verbose=False)"
      ],
      "execution_count": 0,
      "outputs": []
    },
    {
      "cell_type": "code",
      "metadata": {
        "id": "rhtO6HU7E_uY",
        "colab_type": "code",
        "outputId": "8ebfe127-e572-4242-f340-9b8fd100b22a",
        "colab": {
          "base_uri": "https://localhost:8080/",
          "height": 198
        }
      },
      "source": [
        "df_allPaths_Converters.head()"
      ],
      "execution_count": 0,
      "outputs": [
        {
          "output_type": "execute_result",
          "data": {
            "text/html": [
              "<div>\n",
              "<style scoped>\n",
              "    .dataframe tbody tr th:only-of-type {\n",
              "        vertical-align: middle;\n",
              "    }\n",
              "\n",
              "    .dataframe tbody tr th {\n",
              "        vertical-align: top;\n",
              "    }\n",
              "\n",
              "    .dataframe thead th {\n",
              "        text-align: right;\n",
              "    }\n",
              "</style>\n",
              "<table border=\"1\" class=\"dataframe\">\n",
              "  <thead>\n",
              "    <tr style=\"text-align: right;\">\n",
              "      <th></th>\n",
              "      <th>category_string</th>\n",
              "      <th>uniques</th>\n",
              "    </tr>\n",
              "  </thead>\n",
              "  <tbody>\n",
              "    <tr>\n",
              "      <th>0</th>\n",
              "      <td>0,0,0,0,0,0,1,0,0,0,0,0,0,0,1,0,0,0,0,0,0,0,0,0,0</td>\n",
              "      <td>16836</td>\n",
              "    </tr>\n",
              "    <tr>\n",
              "      <th>1</th>\n",
              "      <td>0,0,0,0,0,0,0,0,0,0,0,1,0,0,0,0,0,0,0,0,0,0,0,0,0</td>\n",
              "      <td>7336</td>\n",
              "    </tr>\n",
              "    <tr>\n",
              "      <th>2</th>\n",
              "      <td>0,0,0,0,0,0,1,0,0,0,0,0,0,0,0,0,0,0,0,0,0,0,0,0,0</td>\n",
              "      <td>7213</td>\n",
              "    </tr>\n",
              "    <tr>\n",
              "      <th>3</th>\n",
              "      <td>0,0,0,0,1,0,1,0,0,0,0,0,0,0,1,0,0,0,0,0,0,0,0,0,0</td>\n",
              "      <td>4608</td>\n",
              "    </tr>\n",
              "    <tr>\n",
              "      <th>4</th>\n",
              "      <td>1,0,0,0,0,0,0,0,0,0,0,0,0,0,1,0,0,0,0,0,0,0,0,0,0</td>\n",
              "      <td>3909</td>\n",
              "    </tr>\n",
              "  </tbody>\n",
              "</table>\n",
              "</div>"
            ],
            "text/plain": [
              "                                     category_string  uniques\n",
              "0  0,0,0,0,0,0,1,0,0,0,0,0,0,0,1,0,0,0,0,0,0,0,0,0,0    16836\n",
              "1  0,0,0,0,0,0,0,0,0,0,0,1,0,0,0,0,0,0,0,0,0,0,0,0,0     7336\n",
              "2  0,0,0,0,0,0,1,0,0,0,0,0,0,0,0,0,0,0,0,0,0,0,0,0,0     7213\n",
              "3  0,0,0,0,1,0,1,0,0,0,0,0,0,0,1,0,0,0,0,0,0,0,0,0,0     4608\n",
              "4  1,0,0,0,0,0,0,0,0,0,0,0,0,0,1,0,0,0,0,0,0,0,0,0,0     3909"
            ]
          },
          "metadata": {
            "tags": []
          },
          "execution_count": 16
        }
      ]
    },
    {
      "cell_type": "markdown",
      "metadata": {
        "id": "wNC08XeUbwEd",
        "colab_type": "text"
      },
      "source": [
        "## Paths output for all users (Used to calculate lift)"
      ]
    },
    {
      "cell_type": "code",
      "metadata": {
        "id": "7vOHQ20s74a5",
        "colab_type": "code",
        "colab": {}
      },
      "source": [
        "query_allPaths = '''\n",
        "\n",
        "# query provides an output with the count of cookies aggregated to the path level\n",
        "WITH \n",
        " \n",
        "impressions AS (\n",
        "  SELECT\n",
        "    User_ID,\n",
        "    Event_Time AS Interaction_Time,\n",
        "    DBM_URL,\n",
        "    DBM_Adx_Page_Categories\n",
        "  FROM {impression_table}\n",
        "  WHERE User_ID != \"0\"\n",
        "    AND DBM_URL IS NOT NULL\n",
        "    AND DBM_Adx_Page_Categories IS NOT NULL\n",
        "    AND DATE(TIMESTAMP_MICROS(Event_Time),{timezone}) BETWEEN {start_date} AND {end_date}\n",
        "),\n",
        "\n",
        "all_categories AS (\n",
        "SELECT \n",
        "  User_ID,\n",
        "  CONCAT(\",\",REPLACE(REPLACE(STRING_AGG (DISTINCT DBM_ADX_Page_Categories), \",\",\" \"),\" \",\",\")) as category\n",
        "FROM impressions\n",
        "  GROUP BY 1\n",
        "),\n",
        "\n",
        "all_categories_sampled AS (\n",
        "SELECT\n",
        "  User_ID,\n",
        "  category,\n",
        "  CASE WHEN category LIKE '%,3,%' THEN 1 ELSE 0 END AS Acting_Theater,\n",
        "  CASE WHEN category LIKE '%,47,%' THEN 1 ELSE 0 END AS Autos_Vehicles,\n",
        "  CASE WHEN category LIKE '%,44,%' THEN 1 ELSE 0 END AS Beauty_Fitness,\n",
        "  CASE WHEN category LIKE '%,22,%' THEN 1 ELSE 0 END AS Books_Literature,\n",
        "  CASE WHEN category LIKE '%,12,%' THEN 1 ELSE 0 END AS Business_Industrial,\n",
        "  CASE WHEN category LIKE '%,5,%' THEN 1 ELSE 0 END AS Computers_Electronics,\n",
        "  CASE WHEN category LIKE '%,7,%' THEN 1 ELSE 0 END AS Finance,\n",
        "  CASE WHEN category LIKE '%,8,%' THEN 1 ELSE 0 END AS Games,\n",
        "  CASE WHEN category LIKE '%,45,%' THEN 1 ELSE 0 END AS Health,\n",
        "  CASE WHEN category LIKE '%,65,%' THEN 1 ELSE 0 END AS Hobbies_Leisure,\n",
        "  CASE WHEN category LIKE '%,11,%' THEN 1 ELSE 0 END AS Home_Garden,\n",
        "  CASE WHEN category LIKE '%,13,%' THEN 1 ELSE 0 END AS Internet_Telecom,\n",
        "  CASE WHEN category LIKE '%,958,%' THEN 1 ELSE 0 END AS Jobs_Education,\n",
        "  CASE WHEN category LIKE '%,19,%' THEN 1 ELSE 0 END AS Law_Government,\n",
        "  CASE WHEN category LIKE '%,16,%' THEN 1 ELSE 0 END AS News,\n",
        "  CASE WHEN category LIKE '%,299,%' THEN 1 ELSE 0 END AS Online_Communities,\n",
        "  CASE WHEN category LIKE '%,14,%' THEN 1 ELSE 0 END AS People_Society,\n",
        "  CASE WHEN category LIKE '%,66,%' THEN 1 ELSE 0 END AS Pets_Animals,\n",
        "  CASE WHEN category LIKE '%,29,%' THEN 1 ELSE 0 END AS Real_Estate,\n",
        "  CASE WHEN category LIKE '%,533,%' THEN 1 ELSE 0 END AS Reference,\n",
        "  CASE WHEN category LIKE '%,174,%' THEN 1 ELSE 0 END AS Science,\n",
        "  CASE WHEN category LIKE '%,18,%' THEN 1 ELSE 0 END AS Shopping,\n",
        "  CASE WHEN category LIKE '%,20,%' THEN 1 ELSE 0 END AS Sports,\n",
        "  CASE WHEN category LIKE '%,67,%' THEN 1 ELSE 0 END AS Travel,\n",
        "  CASE WHEN category LIKE '%,5000,%' THEN 1 ELSE 0 END AS World_Localities\n",
        "FROM\n",
        "  all_categories\n",
        "  #WHERE MOD(ABS(Farm_Fingerprint (User_ID)),{sample_rate})=0 #uncomment to sample data\n",
        "),\n",
        "\n",
        "categories_string AS (\n",
        "SELECT\n",
        "  User_ID,\n",
        "  category,\n",
        "  concat(\n",
        "  CAST (Acting_Theater AS string), \",\" ,\n",
        "  CAST (Autos_Vehicles AS string), \",\" ,\n",
        "  CAST (Beauty_Fitness AS string), \",\" ,\n",
        "  CAST (Books_Literature AS string), \",\" ,\n",
        "  CAST (Business_Industrial AS string), \",\" ,\n",
        "  CAST (Computers_Electronics AS string), \",\" ,\n",
        "  CAST (Finance AS string), \",\" ,\n",
        "  CAST (Games AS string), \",\" ,\n",
        "  CAST (Health AS string), \",\" ,\n",
        "  CAST (Hobbies_Leisure AS string), \",\" ,\n",
        "  CAST (Home_Garden AS string), \",\" ,\n",
        "  CAST (Internet_Telecom AS string), \",\" ,\n",
        "  CAST (Jobs_Education AS string), \",\" ,\n",
        "  CAST (Law_Government AS string), \",\" ,\n",
        "  CAST (News AS string), \",\" ,\n",
        "  CAST (Online_Communities AS string), \",\" ,\n",
        "  CAST (People_Society AS string), \",\" ,\n",
        "  CAST (Pets_Animals AS string), \",\" ,\n",
        "  CAST (Real_Estate AS string), \",\" ,\n",
        "  CAST (Reference AS string), \",\" ,\n",
        "  CAST (Science AS string), \",\" ,\n",
        "  CAST (Shopping AS string), \",\" ,\n",
        "  CAST (Sports AS string), \",\" ,\n",
        "  CAST (Travel AS string), \",\" ,\n",
        "  CAST (World_Localities AS string)) AS category_string\n",
        "FROM all_categories_sampled\n",
        ")\n",
        "\n",
        "SELECT\n",
        "  category_string,\n",
        "  COUNT (User_ID) AS uniques\n",
        "  FROM\n",
        "  categories_string\n",
        "  GROUP BY 1\n",
        "  ORDER BY 2 DESC\n",
        "'''.format(impression_table=impression_table,timezone=timezone,start_date=start_date,end_date=end_date,sample_rate=sample_rate)"
      ],
      "execution_count": 0,
      "outputs": []
    },
    {
      "cell_type": "code",
      "metadata": {
        "id": "-voHjwxUDYEl",
        "colab_type": "code",
        "colab": {}
      },
      "source": [
        "df_allPaths = pd.io.gbq.read_gbq(query_allPaths, project_id=project_id, dialect='standard', verbose=False)"
      ],
      "execution_count": 0,
      "outputs": []
    },
    {
      "cell_type": "code",
      "metadata": {
        "id": "F31Nr8GU8z6p",
        "colab_type": "code",
        "outputId": "c0ac4124-a7a6-4d82-8950-3bf894517576",
        "colab": {
          "base_uri": "https://localhost:8080/",
          "height": 198
        }
      },
      "source": [
        "df_allPaths.head()"
      ],
      "execution_count": 0,
      "outputs": [
        {
          "output_type": "execute_result",
          "data": {
            "text/html": [
              "<div>\n",
              "<style scoped>\n",
              "    .dataframe tbody tr th:only-of-type {\n",
              "        vertical-align: middle;\n",
              "    }\n",
              "\n",
              "    .dataframe tbody tr th {\n",
              "        vertical-align: top;\n",
              "    }\n",
              "\n",
              "    .dataframe thead th {\n",
              "        text-align: right;\n",
              "    }\n",
              "</style>\n",
              "<table border=\"1\" class=\"dataframe\">\n",
              "  <thead>\n",
              "    <tr style=\"text-align: right;\">\n",
              "      <th></th>\n",
              "      <th>category_string</th>\n",
              "      <th>uniques</th>\n",
              "    </tr>\n",
              "  </thead>\n",
              "  <tbody>\n",
              "    <tr>\n",
              "      <th>0</th>\n",
              "      <td>0,0,0,0,0,0,1,0,0,0,0,0,0,0,1,0,0,0,0,0,0,0,0,0,0</td>\n",
              "      <td>12472050</td>\n",
              "    </tr>\n",
              "    <tr>\n",
              "      <th>1</th>\n",
              "      <td>0,0,0,0,0,0,0,0,0,0,0,0,0,0,0,0,0,0,0,0,0,0,0,0,0</td>\n",
              "      <td>3481595</td>\n",
              "    </tr>\n",
              "    <tr>\n",
              "      <th>2</th>\n",
              "      <td>0,0,0,0,0,0,0,0,0,0,0,1,0,0,0,0,0,0,0,0,0,0,0,0,0</td>\n",
              "      <td>3380256</td>\n",
              "    </tr>\n",
              "    <tr>\n",
              "      <th>3</th>\n",
              "      <td>0,0,0,0,0,0,1,0,0,0,0,0,0,0,0,0,0,0,0,0,0,0,0,0,0</td>\n",
              "      <td>3203000</td>\n",
              "    </tr>\n",
              "    <tr>\n",
              "      <th>4</th>\n",
              "      <td>0,0,0,0,1,0,1,0,0,0,0,0,0,0,1,0,0,0,0,0,0,0,0,0,0</td>\n",
              "      <td>2813430</td>\n",
              "    </tr>\n",
              "  </tbody>\n",
              "</table>\n",
              "</div>"
            ],
            "text/plain": [
              "                                     category_string   uniques\n",
              "0  0,0,0,0,0,0,1,0,0,0,0,0,0,0,1,0,0,0,0,0,0,0,0,0,0  12472050\n",
              "1  0,0,0,0,0,0,0,0,0,0,0,0,0,0,0,0,0,0,0,0,0,0,0,0,0   3481595\n",
              "2  0,0,0,0,0,0,0,0,0,0,0,1,0,0,0,0,0,0,0,0,0,0,0,0,0   3380256\n",
              "3  0,0,0,0,0,0,1,0,0,0,0,0,0,0,0,0,0,0,0,0,0,0,0,0,0   3203000\n",
              "4  0,0,0,0,1,0,1,0,0,0,0,0,0,0,1,0,0,0,0,0,0,0,0,0,0   2813430"
            ]
          },
          "metadata": {
            "tags": []
          },
          "execution_count": 19
        }
      ]
    },
    {
      "cell_type": "code",
      "metadata": {
        "id": "E9C3d015qXSB",
        "colab_type": "code",
        "outputId": "4302800c-5746-4216-ca89-e8606e18000b",
        "colab": {
          "base_uri": "https://localhost:8080/",
          "height": 247
        }
      },
      "source": [
        "df_main.drop(['category'], axis=1).head()"
      ],
      "execution_count": 0,
      "outputs": [
        {
          "output_type": "execute_result",
          "data": {
            "text/html": [
              "<div>\n",
              "<style scoped>\n",
              "    .dataframe tbody tr th:only-of-type {\n",
              "        vertical-align: middle;\n",
              "    }\n",
              "\n",
              "    .dataframe tbody tr th {\n",
              "        vertical-align: top;\n",
              "    }\n",
              "\n",
              "    .dataframe thead th {\n",
              "        text-align: right;\n",
              "    }\n",
              "</style>\n",
              "<table border=\"1\" class=\"dataframe\">\n",
              "  <thead>\n",
              "    <tr style=\"text-align: right;\">\n",
              "      <th></th>\n",
              "      <th>User_ID</th>\n",
              "      <th>Acting_Theater</th>\n",
              "      <th>Autos_Vehicles</th>\n",
              "      <th>Beauty_Fitness</th>\n",
              "      <th>Books_Literature</th>\n",
              "      <th>Business_Industrial</th>\n",
              "      <th>Computers_Electronics</th>\n",
              "      <th>Finance</th>\n",
              "      <th>Games</th>\n",
              "      <th>Health</th>\n",
              "      <th>...</th>\n",
              "      <th>Online_Communities</th>\n",
              "      <th>People_Society</th>\n",
              "      <th>Pets_Animals</th>\n",
              "      <th>Real_Estate</th>\n",
              "      <th>Reference</th>\n",
              "      <th>Science</th>\n",
              "      <th>Shopping</th>\n",
              "      <th>Sports</th>\n",
              "      <th>Travel</th>\n",
              "      <th>World_Localities</th>\n",
              "    </tr>\n",
              "  </thead>\n",
              "  <tbody>\n",
              "    <tr>\n",
              "      <th>0</th>\n",
              "      <td>AMsySZYyEcvFyiFzpcJeM61T0Mmj</td>\n",
              "      <td>1</td>\n",
              "      <td>0</td>\n",
              "      <td>0</td>\n",
              "      <td>0</td>\n",
              "      <td>0</td>\n",
              "      <td>0</td>\n",
              "      <td>1</td>\n",
              "      <td>1</td>\n",
              "      <td>0</td>\n",
              "      <td>...</td>\n",
              "      <td>0</td>\n",
              "      <td>0</td>\n",
              "      <td>0</td>\n",
              "      <td>0</td>\n",
              "      <td>0</td>\n",
              "      <td>0</td>\n",
              "      <td>0</td>\n",
              "      <td>1</td>\n",
              "      <td>1</td>\n",
              "      <td>1</td>\n",
              "    </tr>\n",
              "    <tr>\n",
              "      <th>1</th>\n",
              "      <td>AMsySZal23z96xWjZStlYidOAtmj</td>\n",
              "      <td>1</td>\n",
              "      <td>0</td>\n",
              "      <td>0</td>\n",
              "      <td>0</td>\n",
              "      <td>1</td>\n",
              "      <td>1</td>\n",
              "      <td>1</td>\n",
              "      <td>1</td>\n",
              "      <td>0</td>\n",
              "      <td>...</td>\n",
              "      <td>0</td>\n",
              "      <td>0</td>\n",
              "      <td>0</td>\n",
              "      <td>0</td>\n",
              "      <td>1</td>\n",
              "      <td>0</td>\n",
              "      <td>1</td>\n",
              "      <td>1</td>\n",
              "      <td>0</td>\n",
              "      <td>1</td>\n",
              "    </tr>\n",
              "    <tr>\n",
              "      <th>2</th>\n",
              "      <td>AMsySZaNwJ3uf1tRjAtyBkdBXfIA</td>\n",
              "      <td>0</td>\n",
              "      <td>0</td>\n",
              "      <td>0</td>\n",
              "      <td>1</td>\n",
              "      <td>0</td>\n",
              "      <td>0</td>\n",
              "      <td>1</td>\n",
              "      <td>0</td>\n",
              "      <td>0</td>\n",
              "      <td>...</td>\n",
              "      <td>0</td>\n",
              "      <td>0</td>\n",
              "      <td>0</td>\n",
              "      <td>0</td>\n",
              "      <td>1</td>\n",
              "      <td>0</td>\n",
              "      <td>1</td>\n",
              "      <td>0</td>\n",
              "      <td>0</td>\n",
              "      <td>0</td>\n",
              "    </tr>\n",
              "    <tr>\n",
              "      <th>3</th>\n",
              "      <td>AMsySZaz_ZJRKd-_Ff8cF6xjpch-</td>\n",
              "      <td>0</td>\n",
              "      <td>0</td>\n",
              "      <td>0</td>\n",
              "      <td>0</td>\n",
              "      <td>0</td>\n",
              "      <td>0</td>\n",
              "      <td>0</td>\n",
              "      <td>0</td>\n",
              "      <td>0</td>\n",
              "      <td>...</td>\n",
              "      <td>0</td>\n",
              "      <td>0</td>\n",
              "      <td>0</td>\n",
              "      <td>0</td>\n",
              "      <td>0</td>\n",
              "      <td>0</td>\n",
              "      <td>0</td>\n",
              "      <td>0</td>\n",
              "      <td>0</td>\n",
              "      <td>0</td>\n",
              "    </tr>\n",
              "    <tr>\n",
              "      <th>4</th>\n",
              "      <td>AMsySZYy22pUmBwYvQsI4oDsD0rK</td>\n",
              "      <td>0</td>\n",
              "      <td>0</td>\n",
              "      <td>0</td>\n",
              "      <td>0</td>\n",
              "      <td>1</td>\n",
              "      <td>1</td>\n",
              "      <td>0</td>\n",
              "      <td>0</td>\n",
              "      <td>0</td>\n",
              "      <td>...</td>\n",
              "      <td>1</td>\n",
              "      <td>0</td>\n",
              "      <td>0</td>\n",
              "      <td>0</td>\n",
              "      <td>1</td>\n",
              "      <td>0</td>\n",
              "      <td>1</td>\n",
              "      <td>0</td>\n",
              "      <td>1</td>\n",
              "      <td>1</td>\n",
              "    </tr>\n",
              "  </tbody>\n",
              "</table>\n",
              "<p>5 rows × 26 columns</p>\n",
              "</div>"
            ],
            "text/plain": [
              "                        User_ID  Acting_Theater  Autos_Vehicles  \\\n",
              "0  AMsySZYyEcvFyiFzpcJeM61T0Mmj               1               0   \n",
              "1  AMsySZal23z96xWjZStlYidOAtmj               1               0   \n",
              "2  AMsySZaNwJ3uf1tRjAtyBkdBXfIA               0               0   \n",
              "3  AMsySZaz_ZJRKd-_Ff8cF6xjpch-               0               0   \n",
              "4  AMsySZYy22pUmBwYvQsI4oDsD0rK               0               0   \n",
              "\n",
              "   Beauty_Fitness  Books_Literature  Business_Industrial  \\\n",
              "0               0                 0                    0   \n",
              "1               0                 0                    1   \n",
              "2               0                 1                    0   \n",
              "3               0                 0                    0   \n",
              "4               0                 0                    1   \n",
              "\n",
              "   Computers_Electronics  Finance  Games  Health        ...         \\\n",
              "0                      0        1      1       0        ...          \n",
              "1                      1        1      1       0        ...          \n",
              "2                      0        1      0       0        ...          \n",
              "3                      0        0      0       0        ...          \n",
              "4                      1        0      0       0        ...          \n",
              "\n",
              "   Online_Communities  People_Society  Pets_Animals  Real_Estate  Reference  \\\n",
              "0                   0               0             0            0          0   \n",
              "1                   0               0             0            0          1   \n",
              "2                   0               0             0            0          1   \n",
              "3                   0               0             0            0          0   \n",
              "4                   1               0             0            0          1   \n",
              "\n",
              "   Science  Shopping  Sports  Travel  World_Localities  \n",
              "0        0         0       1       1                 1  \n",
              "1        0         1       1       0                 1  \n",
              "2        0         1       0       0                 0  \n",
              "3        0         0       0       0                 0  \n",
              "4        0         1       0       1                 1  \n",
              "\n",
              "[5 rows x 26 columns]"
            ]
          },
          "metadata": {
            "tags": []
          },
          "execution_count": 20
        }
      ]
    },
    {
      "cell_type": "code",
      "metadata": {
        "id": "9MUODHWERzdi",
        "colab_type": "code",
        "outputId": "8de0f21c-b7cc-4784-a667-ae1d217d9b10",
        "colab": {
          "base_uri": "https://localhost:8080/",
          "height": 588
        }
      },
      "source": [
        "df_main.info()"
      ],
      "execution_count": 0,
      "outputs": [
        {
          "output_type": "stream",
          "text": [
            "<class 'pandas.core.frame.DataFrame'>\n",
            "RangeIndex: 240738 entries, 0 to 240737\n",
            "Data columns (total 27 columns):\n",
            "User_ID                  240738 non-null object\n",
            "category                 240738 non-null object\n",
            "Acting_Theater           240738 non-null int64\n",
            "Autos_Vehicles           240738 non-null int64\n",
            "Beauty_Fitness           240738 non-null int64\n",
            "Books_Literature         240738 non-null int64\n",
            "Business_Industrial      240738 non-null int64\n",
            "Computers_Electronics    240738 non-null int64\n",
            "Finance                  240738 non-null int64\n",
            "Games                    240738 non-null int64\n",
            "Health                   240738 non-null int64\n",
            "Hobbies_Leisure          240738 non-null int64\n",
            "Home_Garden              240738 non-null int64\n",
            "Internet_Telecom         240738 non-null int64\n",
            "Jobs_Education           240738 non-null int64\n",
            "Law_Government           240738 non-null int64\n",
            "News                     240738 non-null int64\n",
            "Online_Communities       240738 non-null int64\n",
            "People_Society           240738 non-null int64\n",
            "Pets_Animals             240738 non-null int64\n",
            "Real_Estate              240738 non-null int64\n",
            "Reference                240738 non-null int64\n",
            "Science                  240738 non-null int64\n",
            "Shopping                 240738 non-null int64\n",
            "Sports                   240738 non-null int64\n",
            "Travel                   240738 non-null int64\n",
            "World_Localities         240738 non-null int64\n",
            "dtypes: int64(25), object(2)\n",
            "memory usage: 49.6+ MB\n"
          ],
          "name": "stdout"
        }
      ]
    },
    {
      "cell_type": "markdown",
      "metadata": {
        "id": "xxE0Fkxyavb6",
        "colab_type": "text"
      },
      "source": [
        "#Modeling"
      ]
    },
    {
      "cell_type": "code",
      "metadata": {
        "id": "-ojbpI2XFgsq",
        "colab_type": "code",
        "outputId": "b6ab9fec-8131-41cc-96bd-e60713905b7a",
        "colab": {
          "base_uri": "https://localhost:8080/",
          "height": 287
        }
      },
      "source": [
        "!pip install kmodes"
      ],
      "execution_count": 0,
      "outputs": [
        {
          "output_type": "stream",
          "text": [
            "Collecting kmodes\n",
            "  Downloading https://files.pythonhosted.org/packages/1a/d5/54e0efa2ddf33234761f8c35471f4a2280bb4cef44fd39fa08f1e663946a/kmodes-0.9-py2.py3-none-any.whl\n",
            "Requirement already satisfied: scipy>=0.13.3 in /usr/local/lib/python2.7/dist-packages (from kmodes) (1.1.0)\n",
            "Collecting scikit-learn<0.20.0,>=0.19.0 (from kmodes)\n",
            "\u001b[?25l  Downloading https://files.pythonhosted.org/packages/bc/67/370aa248f54769a56216707ad7b9af19745e85a603fafa47bde353f327fb/scikit_learn-0.19.2-cp27-cp27mu-manylinux1_x86_64.whl (5.0MB)\n",
            "\u001b[K    100% |████████████████████████████████| 5.0MB 4.1MB/s \n",
            "\u001b[?25hRequirement already satisfied: numpy>=1.10.4 in /usr/local/lib/python2.7/dist-packages (from kmodes) (1.14.6)\n",
            "\u001b[31mimbalanced-learn 0.4.3 has requirement scikit-learn>=0.20, but you'll have scikit-learn 0.19.2 which is incompatible.\u001b[0m\n",
            "\u001b[31myellowbrick 0.9.1 has requirement scikit-learn>=0.20, but you'll have scikit-learn 0.19.2 which is incompatible.\u001b[0m\n",
            "Installing collected packages: scikit-learn, kmodes\n",
            "  Found existing installation: scikit-learn 0.20.3\n",
            "    Uninstalling scikit-learn-0.20.3:\n",
            "      Successfully uninstalled scikit-learn-0.20.3\n",
            "Successfully installed kmodes-0.9 scikit-learn-0.19.2\n"
          ],
          "name": "stdout"
        }
      ]
    },
    {
      "cell_type": "code",
      "metadata": {
        "id": "KF4DIT6VPhyX",
        "colab_type": "code",
        "colab": {}
      },
      "source": [
        "# Another way to sample data\n",
        "df_mainSampled=df_main.sample(n=10000, random_state=1)"
      ],
      "execution_count": 0,
      "outputs": []
    },
    {
      "cell_type": "code",
      "metadata": {
        "id": "lYPbO0UgFryE",
        "colab_type": "code",
        "outputId": "dfefc262-af9a-4d92-d01b-7410f6a1bb9a",
        "colab": {
          "base_uri": "https://localhost:8080/",
          "height": 385
        }
      },
      "source": [
        "# Run the elbow method.  Run the model n times, and find the loss for each n.  We then apply n where loss starts to level out. This will be slow, especially with unsampled data. \n",
        "from kmodes.kmodes import KModes\n",
        "\n",
        "\n",
        "data = df_mainSampled.drop(['User_ID', 'category'], axis=1) #use if you want sampled data\n",
        "#data = df_main.drop(['User_ID', 'category'], axis=1) #use if you want full data\n",
        "\n",
        "lst = []\n",
        "n = 20 #user change for elbow method testing\n",
        "\n",
        "def process(n):\n",
        "    km = KModes(n_clusters=n, init='Huang', n_init=10, verbose=0)\n",
        "    clusters = km.fit_predict(data)\n",
        "    lst.append(km.cost_)\n",
        "\n",
        "for i in range(n):\n",
        "    process(i+1)\n",
        "\n",
        "print(lst)\n",
        "plt.plot(range(1,n+1),lst)\n",
        "plt.show()"
      ],
      "execution_count": 0,
      "outputs": [
        {
          "output_type": "stream",
          "text": [
            "[36869.0, 32327.0, 28201.0, 26762.0, 26143.0, 24975.0, 23724.0, 24140.0, 23075.0, 22868.0, 22061.0, 22253.0, 21309.0, 21223.0, 21255.0, 20950.0, 20661.0, 19819.0, 20346.0, 19793.0]\n"
          ],
          "name": "stdout"
        },
        {
          "output_type": "display_data",
          "data": {
            "image/png": "[encoded data removed]",
            "text/plain": [
              "<Figure size 576x396 with 1 Axes>"
            ]
          },
          "metadata": {
            "tags": []
          }
        }
      ]
    },
    {
      "cell_type": "code",
      "metadata": {
        "id": "ARnNdt6LIA0J",
        "colab_type": "code",
        "outputId": "e2b73a2a-7c7c-45ef-8a77-8f377ac9517f",
        "colab": {
          "base_uri": "https://localhost:8080/",
          "height": 124
        }
      },
      "source": [
        "#make clusters \n",
        "import numpy as np\n",
        "from kmodes.kmodes import KModes\n",
        "\n",
        "total_clusters = 6 #user to change based on results from elbow method\n",
        "lst = []\n",
        "\n",
        "data = df_main.drop(['User_ID', 'category'], axis=1)\n",
        "\n",
        "km = KModes(n_clusters=total_clusters, init='Huang', n_init=10, verbose=0)\n",
        "#also tested with 'Cao' init method, and with n_init of 5 and 10. \n",
        "\n",
        "clusters = km.fit_predict(data)\n",
        "\n",
        "# Print the cluster centroids\n",
        "lst.append(km.cluster_centroids_)\n",
        "print(lst[0])"
      ],
      "execution_count": 0,
      "outputs": [
        {
          "output_type": "stream",
          "text": [
            "[[0 0 0 0 0 0 1 0 0 0 0 0 0 0 1 0 0 0 0 0 0 0 0 0 0]\n",
            " [0 0 0 0 0 0 0 0 0 0 0 0 0 0 1 0 0 0 0 0 0 0 0 0 1]\n",
            " [0 0 0 0 0 0 0 0 0 0 0 0 0 0 0 0 0 0 0 0 0 0 0 0 0]\n",
            " [1 0 0 0 1 0 1 0 0 0 0 0 0 0 1 0 0 0 0 0 0 1 1 1 1]\n",
            " [1 0 0 0 0 0 0 0 0 0 0 0 0 0 1 0 0 0 0 0 0 0 1 0 0]\n",
            " [1 0 0 0 1 0 1 0 0 0 0 1 0 0 1 0 0 0 0 0 0 1 0 0 0]]\n"
          ],
          "name": "stdout"
        }
      ]
    },
    {
      "cell_type": "code",
      "metadata": {
        "id": "2ncc7aB1XSKA",
        "colab_type": "code",
        "outputId": "606013ed-8578-47f3-b615-11a06b1e6ef8",
        "colab": {
          "base_uri": "https://localhost:8080/",
          "height": 277
        }
      },
      "source": [
        "columns=list(df_main.drop(columns=['User_ID','category'])) # get column names\n",
        "df_modelOut = pd.DataFrame(lst[0])\n",
        "df_modelOut.columns=columns\n",
        "df_modelOut"
      ],
      "execution_count": 0,
      "outputs": [
        {
          "output_type": "execute_result",
          "data": {
            "text/html": [
              "<div>\n",
              "<style scoped>\n",
              "    .dataframe tbody tr th:only-of-type {\n",
              "        vertical-align: middle;\n",
              "    }\n",
              "\n",
              "    .dataframe tbody tr th {\n",
              "        vertical-align: top;\n",
              "    }\n",
              "\n",
              "    .dataframe thead th {\n",
              "        text-align: right;\n",
              "    }\n",
              "</style>\n",
              "<table border=\"1\" class=\"dataframe\">\n",
              "  <thead>\n",
              "    <tr style=\"text-align: right;\">\n",
              "      <th></th>\n",
              "      <th>Acting_Theater</th>\n",
              "      <th>Autos_Vehicles</th>\n",
              "      <th>Beauty_Fitness</th>\n",
              "      <th>Books_Literature</th>\n",
              "      <th>Business_Industrial</th>\n",
              "      <th>Computers_Electronics</th>\n",
              "      <th>Finance</th>\n",
              "      <th>Games</th>\n",
              "      <th>Health</th>\n",
              "      <th>Hobbies_Leisure</th>\n",
              "      <th>...</th>\n",
              "      <th>Online_Communities</th>\n",
              "      <th>People_Society</th>\n",
              "      <th>Pets_Animals</th>\n",
              "      <th>Real_Estate</th>\n",
              "      <th>Reference</th>\n",
              "      <th>Science</th>\n",
              "      <th>Shopping</th>\n",
              "      <th>Sports</th>\n",
              "      <th>Travel</th>\n",
              "      <th>World_Localities</th>\n",
              "    </tr>\n",
              "  </thead>\n",
              "  <tbody>\n",
              "    <tr>\n",
              "      <th>0</th>\n",
              "      <td>0</td>\n",
              "      <td>0</td>\n",
              "      <td>0</td>\n",
              "      <td>0</td>\n",
              "      <td>0</td>\n",
              "      <td>0</td>\n",
              "      <td>1</td>\n",
              "      <td>0</td>\n",
              "      <td>0</td>\n",
              "      <td>0</td>\n",
              "      <td>...</td>\n",
              "      <td>0</td>\n",
              "      <td>0</td>\n",
              "      <td>0</td>\n",
              "      <td>0</td>\n",
              "      <td>0</td>\n",
              "      <td>0</td>\n",
              "      <td>0</td>\n",
              "      <td>0</td>\n",
              "      <td>0</td>\n",
              "      <td>0</td>\n",
              "    </tr>\n",
              "    <tr>\n",
              "      <th>1</th>\n",
              "      <td>0</td>\n",
              "      <td>0</td>\n",
              "      <td>0</td>\n",
              "      <td>0</td>\n",
              "      <td>0</td>\n",
              "      <td>0</td>\n",
              "      <td>0</td>\n",
              "      <td>0</td>\n",
              "      <td>0</td>\n",
              "      <td>0</td>\n",
              "      <td>...</td>\n",
              "      <td>0</td>\n",
              "      <td>0</td>\n",
              "      <td>0</td>\n",
              "      <td>0</td>\n",
              "      <td>0</td>\n",
              "      <td>0</td>\n",
              "      <td>0</td>\n",
              "      <td>0</td>\n",
              "      <td>0</td>\n",
              "      <td>1</td>\n",
              "    </tr>\n",
              "    <tr>\n",
              "      <th>2</th>\n",
              "      <td>0</td>\n",
              "      <td>0</td>\n",
              "      <td>0</td>\n",
              "      <td>0</td>\n",
              "      <td>0</td>\n",
              "      <td>0</td>\n",
              "      <td>0</td>\n",
              "      <td>0</td>\n",
              "      <td>0</td>\n",
              "      <td>0</td>\n",
              "      <td>...</td>\n",
              "      <td>0</td>\n",
              "      <td>0</td>\n",
              "      <td>0</td>\n",
              "      <td>0</td>\n",
              "      <td>0</td>\n",
              "      <td>0</td>\n",
              "      <td>0</td>\n",
              "      <td>0</td>\n",
              "      <td>0</td>\n",
              "      <td>0</td>\n",
              "    </tr>\n",
              "    <tr>\n",
              "      <th>3</th>\n",
              "      <td>1</td>\n",
              "      <td>0</td>\n",
              "      <td>0</td>\n",
              "      <td>0</td>\n",
              "      <td>1</td>\n",
              "      <td>0</td>\n",
              "      <td>1</td>\n",
              "      <td>0</td>\n",
              "      <td>0</td>\n",
              "      <td>0</td>\n",
              "      <td>...</td>\n",
              "      <td>0</td>\n",
              "      <td>0</td>\n",
              "      <td>0</td>\n",
              "      <td>0</td>\n",
              "      <td>0</td>\n",
              "      <td>0</td>\n",
              "      <td>1</td>\n",
              "      <td>1</td>\n",
              "      <td>1</td>\n",
              "      <td>1</td>\n",
              "    </tr>\n",
              "    <tr>\n",
              "      <th>4</th>\n",
              "      <td>1</td>\n",
              "      <td>0</td>\n",
              "      <td>0</td>\n",
              "      <td>0</td>\n",
              "      <td>0</td>\n",
              "      <td>0</td>\n",
              "      <td>0</td>\n",
              "      <td>0</td>\n",
              "      <td>0</td>\n",
              "      <td>0</td>\n",
              "      <td>...</td>\n",
              "      <td>0</td>\n",
              "      <td>0</td>\n",
              "      <td>0</td>\n",
              "      <td>0</td>\n",
              "      <td>0</td>\n",
              "      <td>0</td>\n",
              "      <td>0</td>\n",
              "      <td>1</td>\n",
              "      <td>0</td>\n",
              "      <td>0</td>\n",
              "    </tr>\n",
              "    <tr>\n",
              "      <th>5</th>\n",
              "      <td>1</td>\n",
              "      <td>0</td>\n",
              "      <td>0</td>\n",
              "      <td>0</td>\n",
              "      <td>1</td>\n",
              "      <td>0</td>\n",
              "      <td>1</td>\n",
              "      <td>0</td>\n",
              "      <td>0</td>\n",
              "      <td>0</td>\n",
              "      <td>...</td>\n",
              "      <td>0</td>\n",
              "      <td>0</td>\n",
              "      <td>0</td>\n",
              "      <td>0</td>\n",
              "      <td>0</td>\n",
              "      <td>0</td>\n",
              "      <td>1</td>\n",
              "      <td>0</td>\n",
              "      <td>0</td>\n",
              "      <td>0</td>\n",
              "    </tr>\n",
              "  </tbody>\n",
              "</table>\n",
              "<p>6 rows × 25 columns</p>\n",
              "</div>"
            ],
            "text/plain": [
              "   Acting_Theater  Autos_Vehicles  Beauty_Fitness  Books_Literature  \\\n",
              "0               0               0               0                 0   \n",
              "1               0               0               0                 0   \n",
              "2               0               0               0                 0   \n",
              "3               1               0               0                 0   \n",
              "4               1               0               0                 0   \n",
              "5               1               0               0                 0   \n",
              "\n",
              "   Business_Industrial  Computers_Electronics  Finance  Games  Health  \\\n",
              "0                    0                      0        1      0       0   \n",
              "1                    0                      0        0      0       0   \n",
              "2                    0                      0        0      0       0   \n",
              "3                    1                      0        1      0       0   \n",
              "4                    0                      0        0      0       0   \n",
              "5                    1                      0        1      0       0   \n",
              "\n",
              "   Hobbies_Leisure        ...         Online_Communities  People_Society  \\\n",
              "0                0        ...                          0               0   \n",
              "1                0        ...                          0               0   \n",
              "2                0        ...                          0               0   \n",
              "3                0        ...                          0               0   \n",
              "4                0        ...                          0               0   \n",
              "5                0        ...                          0               0   \n",
              "\n",
              "   Pets_Animals  Real_Estate  Reference  Science  Shopping  Sports  Travel  \\\n",
              "0             0            0          0        0         0       0       0   \n",
              "1             0            0          0        0         0       0       0   \n",
              "2             0            0          0        0         0       0       0   \n",
              "3             0            0          0        0         1       1       1   \n",
              "4             0            0          0        0         0       1       0   \n",
              "5             0            0          0        0         1       0       0   \n",
              "\n",
              "   World_Localities  \n",
              "0                 0  \n",
              "1                 1  \n",
              "2                 0  \n",
              "3                 1  \n",
              "4                 0  \n",
              "5                 0  \n",
              "\n",
              "[6 rows x 25 columns]"
            ]
          },
          "metadata": {
            "tags": []
          },
          "execution_count": 39
        }
      ]
    },
    {
      "cell_type": "code",
      "metadata": {
        "id": "ppMizLWam3Hb",
        "colab_type": "code",
        "colab": {}
      },
      "source": [
        "df_allPathsMerged = df_allPaths_Converters.merge(df_allPaths,how='inner',on='category_string') #inner join converter and all_paths dataframes together\n",
        "df_allPathsMerged = df_allPathsMerged.rename(index=str, columns={\"category_string\": \"Category\", \"uniques_x\": \"Unique_Converters\", \"uniques_y\": \"Unique_All\"}) #rename columns\n",
        "df_allPathsMerged[\"Conversion_Rate\"] = df_allPathsMerged[\"Unique_Converters\"]/df_allPathsMerged[\"Unique_All\"] #build conversion rate column"
      ],
      "execution_count": 0,
      "outputs": []
    },
    {
      "cell_type": "code",
      "metadata": {
        "id": "wmDRTvnkQ6wk",
        "colab_type": "code",
        "colab": {}
      },
      "source": [
        "#if you want to open an existing spreadsheet\n",
        "gc = gspread.authorize(GoogleCredentials.get_application_default())\n",
        "#sh = gc.open('K-Mode Output')\n",
        "#sh = gc.open_by_key('key here')\n",
        "sh = gc.open_by_url('url here')"
      ],
      "execution_count": 0,
      "outputs": []
    },
    {
      "cell_type": "code",
      "metadata": {
        "id": "BpoZN4Jk0aqw",
        "colab_type": "code",
        "colab": {}
      },
      "source": [
        "# add new sheets to worksheet\n",
        "worksheet_kmodes = sh.add_worksheet(title=\"KModes\", rows=\"100\", cols=\"30\")\n",
        "worksheet_allPathsMerged = sh.add_worksheet(title=\"All Paths Merged\", rows=\"50000\", cols=\"20\")"
      ],
      "execution_count": 0,
      "outputs": []
    },
    {
      "cell_type": "code",
      "metadata": {
        "id": "PPAcLz7uwkHu",
        "colab_type": "code",
        "colab": {}
      },
      "source": [
        "# get sheets if they already exist\n",
        "worksheet_kmodes = sh.worksheet(\"KModes\")\n",
        "worksheet_allPathsMerged = sh.worksheet(\"All Paths Merged\")"
      ],
      "execution_count": 0,
      "outputs": []
    },
    {
      "cell_type": "code",
      "metadata": {
        "id": "FXNzdwqW6FIy",
        "colab_type": "code",
        "colab": {}
      },
      "source": [
        "# functions needed to send to sheets\n",
        "def num_to_col_letters(num):\n",
        "    letters = ''\n",
        "    while num:\n",
        "        mod = (num - 1) % 26\n",
        "        letters += chr(mod + 65)\n",
        "        num = (num - 1) // 26\n",
        "    return ''.join(reversed(letters))\n",
        "\n",
        "def df_to_sheet(df, worksheet):\n",
        "  ran = 'A1:'+num_to_col_letters(df.shape[1])+str(df.shape[0]+1)\n",
        "  cell_list = worksheet.range(ran)\n",
        "  df_list = df.values.tolist()\n",
        "  flat_list = [item for sublist in df_list for item in sublist]\n",
        "  list_headers = list(df.columns.values)\n",
        "  flat_list=list_headers+flat_list\n",
        "\n",
        "  for cell, value in zip(cell_list, flat_list):\n",
        "    cell.value = value\n",
        "\n",
        "  worksheet.update_cells(cell_list)\n",
        "\n",
        "#function to return dataframe from sheets\n",
        "def df_from_sheet(worksheet):\n",
        "  list_of_lists = worksheet.get_all_values()\n",
        "  return pd.DataFrame(list_of_lists[1:], columns=list_of_lists[0])"
      ],
      "execution_count": 0,
      "outputs": []
    },
    {
      "cell_type": "code",
      "metadata": {
        "id": "p7NHOc8-LasV",
        "colab_type": "code",
        "colab": {}
      },
      "source": [
        "#send final results to sheets\n",
        "df_to_sheet(df_modelOut, worksheet_kmodes)\n",
        "df_to_sheet(df_allPathsMerged, worksheet_allPathsMerged)"
      ],
      "execution_count": 0,
      "outputs": []
    },
    {
      "cell_type": "markdown",
      "metadata": {
        "id": "OBvYd-86YmBn",
        "colab_type": "text"
      },
      "source": [
        "# Data Exploration"
      ]
    },
    {
      "cell_type": "code",
      "metadata": {
        "id": "DqJzOc7_GaHC",
        "colab_type": "code",
        "outputId": "28a790be-4f99-43c9-d0ce-15fe1908ccb7",
        "colab": {
          "base_uri": "https://localhost:8080/",
          "height": 455
        }
      },
      "source": [
        "#shows rate that each category shows up in a converting path\n",
        "col_list= list(df_main)\n",
        "col_list.remove('User_ID')\n",
        "col_list.remove('category')\n",
        "\n",
        "summary = df_main[col_list].sum().sort_values(ascending = False)\n",
        "summary2 = df_main[col_list].count().sort_values(ascending = False)\n",
        "\n",
        "dfexp = pd.concat([summary, summary2], axis=1)\n",
        "dfexp = dfexp.reset_index()\n",
        "dfexp = dfexp.rename(index=str, columns={\"index\": \"Category\", 0: \"Sum\", 1: \"Count\"})\n",
        "dfexp = dfexp.sort_values('Sum')\n",
        "dfexp['Rate']=dfexp['Sum']/dfexp['Count']\n",
        "\n",
        "g = sns.factorplot(x=\"Category\",y='Rate', kind='bar',aspect=2, data=dfexp)\n",
        "g.set_xticklabels(rotation=90)\n",
        "g.ax.set_title(\"All Categories\")"
      ],
      "execution_count": 0,
      "outputs": [
        {
          "output_type": "stream",
          "text": [
            "/usr/local/lib/python2.7/dist-packages/seaborn/categorical.py:1428: FutureWarning: remove_na is deprecated and is a private function. Do not use.\n",
            "  stat_data = remove_na(group_data)\n"
          ],
          "name": "stderr"
        },
        {
          "output_type": "execute_result",
          "data": {
            "text/plain": [
              "Text(0.5,1,'All Categories')"
            ]
          },
          "metadata": {
            "tags": []
          },
          "execution_count": 49
        },
        {
          "output_type": "display_data",
          "data": {
            "image/png": "[encoded data removed]",
            "text/plain": [
              "<Figure size 576x288 with 1 Axes>"
            ]
          },
          "metadata": {
            "tags": []
          }
        }
      ]
    },
    {
      "cell_type": "code",
      "metadata": {
        "id": "S7GFmbrQcjFJ",
        "colab_type": "code",
        "colab": {}
      },
      "source": [
        "n = 4 #user input\n",
        "lst_summary = list(summary.index)[0:n]"
      ],
      "execution_count": 0,
      "outputs": []
    },
    {
      "cell_type": "code",
      "metadata": {
        "id": "6jqGlHY8Zl8A",
        "colab_type": "code",
        "colab": {}
      },
      "source": [
        "#custom function\n",
        "def process (sub_category):\n",
        "  mask = df_main[sub_category] == 1\n",
        "  df_category = df_main[mask]\n",
        "  mask = 0\n",
        "  summary_category = df_category[col_list].sum().sort_values()\n",
        "  summary2_category = df_category[col_list].count().sort_values()\n",
        "  df2_category = pd.concat([summary_category, summary2_category], axis=1)\n",
        "  df2_category = df2_category.reset_index()\n",
        "  df2_category = df2_category.rename(index=str, columns={\"index\": \"Category\", 0: \"Sum\", 1: \"Count\"})\n",
        "  df2_category = df2_category.sort_values('Sum')\n",
        "  df2_category['Rate']=df2_category['Sum']/df2_category['Count']\n",
        "  mask2=df2_category['Category'] != sub_category\n",
        "  df2_category = df2_category[mask2]\n",
        "  mask2 = 0\n",
        "  g_category = sns.factorplot(x=\"Category\",y='Rate', kind='bar',aspect=2, data=df2_category, margin_titles=True)\n",
        "  g_category.set_xticklabels(rotation=90)\n",
        "  g_category.ax.set_title(\"Category: \"+str(sub_category))"
      ],
      "execution_count": 0,
      "outputs": []
    },
    {
      "cell_type": "code",
      "metadata": {
        "id": "enQ8OmqiStvK",
        "colab_type": "code",
        "outputId": "e1ae5e60-0c80-4b8f-f0dc-936c10abaf16",
        "colab": {
          "base_uri": "https://localhost:8080/",
          "height": 1626
        }
      },
      "source": [
        "#the output shows overlap. For example, if a converting user sees News, what other categories do they also see?\n",
        "for x in lst_summary:\n",
        "  print x\n",
        "  process(x)"
      ],
      "execution_count": 0,
      "outputs": [
        {
          "output_type": "stream",
          "text": [
            "News\n",
            "Finance\n",
            "Acting_Theater\n",
            "World_Localities\n"
          ],
          "name": "stdout"
        },
        {
          "output_type": "display_data",
          "data": {
            "image/png": "[encoded data removed]",
            "text/plain": [
              "<Figure size 576x288 with 1 Axes>"
            ]
          },
          "metadata": {
            "tags": []
          }
        },
        {
          "output_type": "display_data",
          "data": {
            "image/png": "[encoded data removed]",
            "text/plain": [
              "<Figure size 576x288 with 1 Axes>"
            ]
          },
          "metadata": {
            "tags": []
          }
        },
        {
          "output_type": "display_data",
          "data": {
            "image/png": "[encoded data removed]",
            "text/plain": [
              "<Figure size 576x288 with 1 Axes>"
            ]
          },
          "metadata": {
            "tags": []
          }
        },
        {
          "output_type": "display_data",
          "data": {
            "image/png": "[encoded data removed]",
            "text/plain": [
              "<Figure size 576x288 with 1 Axes>"
            ]
          },
          "metadata": {
            "tags": []
          }
        }
      ]
    }
  ]
}